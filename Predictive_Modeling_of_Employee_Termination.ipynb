{
 "cells": [
  {
   "cell_type": "markdown",
   "id": "ea5ecaf4",
   "metadata": {},
   "source": [
    "# Project Milestone 1"
   ]
  },
  {
   "cell_type": "markdown",
   "id": "419827f2",
   "metadata": {},
   "source": [
    "### Import Packages and Data"
   ]
  },
  {
   "cell_type": "code",
   "execution_count": 2,
   "id": "61a6aa3e",
   "metadata": {},
   "outputs": [],
   "source": [
    "import pandas as pd\n",
    "import warnings\n",
    "import matplotlib.pyplot as plt\n",
    "from matplotlib.pyplot import figure\n",
    "import numpy as np\n",
    "\n",
    "warnings.filterwarnings('ignore')                 # some warnings are repressed"
   ]
  },
  {
   "cell_type": "code",
   "execution_count": 3,
   "id": "8ba369eb",
   "metadata": {},
   "outputs": [],
   "source": [
    "df = pd.read_csv('anon_data.csv')"
   ]
  },
  {
   "cell_type": "markdown",
   "id": "8467e66b",
   "metadata": {},
   "source": [
    "### Notes"
   ]
  },
  {
   "cell_type": "markdown",
   "id": "3557b559",
   "metadata": {},
   "source": [
    "This dataset was built off of real data from a large insurance company. Prior to reading the data, it was anonymized, as well as many of the columns and values being altered to not reflect their original value. Further, additional termination data is randomized within the dataset in order to allow a large enough sample for analysis. "
   ]
  },
  {
   "cell_type": "markdown",
   "id": "538ca55e",
   "metadata": {},
   "source": [
    "## Exploratory Data Analysis"
   ]
  },
  {
   "cell_type": "markdown",
   "id": "e1776c08",
   "metadata": {},
   "source": [
    "Before beginning any data cleaning/transformation or analysis, let us take a look at the structure of our data."
   ]
  },
  {
   "cell_type": "markdown",
   "id": "7c3bf8da",
   "metadata": {},
   "source": [
    "### View Data"
   ]
  },
  {
   "cell_type": "code",
   "execution_count": 4,
   "id": "9420cf0a",
   "metadata": {},
   "outputs": [
    {
     "data": {
      "text/html": [
       "<div>\n",
       "<style scoped>\n",
       "    .dataframe tbody tr th:only-of-type {\n",
       "        vertical-align: middle;\n",
       "    }\n",
       "\n",
       "    .dataframe tbody tr th {\n",
       "        vertical-align: top;\n",
       "    }\n",
       "\n",
       "    .dataframe thead th {\n",
       "        text-align: right;\n",
       "    }\n",
       "</style>\n",
       "<table border=\"1\" class=\"dataframe\">\n",
       "  <thead>\n",
       "    <tr style=\"text-align: right;\">\n",
       "      <th></th>\n",
       "      <th>EMPLOYEE_ID</th>\n",
       "      <th>IS_CURRENTLY_ACTIVE_IND</th>\n",
       "      <th>ANNUAL_SALARY</th>\n",
       "      <th>DEPARTMENT</th>\n",
       "      <th>LESS_THAN_1YR_IND</th>\n",
       "    </tr>\n",
       "  </thead>\n",
       "  <tbody>\n",
       "    <tr>\n",
       "      <th>0</th>\n",
       "      <td>a5a4928ec6bb210505851f5b92a4724fcac7b54a5f8005...</td>\n",
       "      <td>1</td>\n",
       "      <td>46238.40</td>\n",
       "      <td>882</td>\n",
       "      <td>0</td>\n",
       "    </tr>\n",
       "    <tr>\n",
       "      <th>1</th>\n",
       "      <td>8695430f4f8a7587f6b62bb855a757a6f3fa098688d104...</td>\n",
       "      <td>1</td>\n",
       "      <td>52208.00</td>\n",
       "      <td>882</td>\n",
       "      <td>0</td>\n",
       "    </tr>\n",
       "    <tr>\n",
       "      <th>2</th>\n",
       "      <td>cbf98ef024c88c8f00faae4cefa5a6330f6a3e433ad95c...</td>\n",
       "      <td>1</td>\n",
       "      <td>42931.20</td>\n",
       "      <td>882</td>\n",
       "      <td>0</td>\n",
       "    </tr>\n",
       "    <tr>\n",
       "      <th>3</th>\n",
       "      <td>cbf98ef024c88c8f00faae4cefa5a6330f6a3e433ad95c...</td>\n",
       "      <td>1</td>\n",
       "      <td>43950.40</td>\n",
       "      <td>882</td>\n",
       "      <td>0</td>\n",
       "    </tr>\n",
       "    <tr>\n",
       "      <th>4</th>\n",
       "      <td>cb4573ba1151aaa938786ab521f7cdc96b8f56b56835ce...</td>\n",
       "      <td>1</td>\n",
       "      <td>111476.59</td>\n",
       "      <td>882</td>\n",
       "      <td>0</td>\n",
       "    </tr>\n",
       "  </tbody>\n",
       "</table>\n",
       "</div>"
      ],
      "text/plain": [
       "                                         EMPLOYEE_ID  IS_CURRENTLY_ACTIVE_IND  \\\n",
       "0  a5a4928ec6bb210505851f5b92a4724fcac7b54a5f8005...                        1   \n",
       "1  8695430f4f8a7587f6b62bb855a757a6f3fa098688d104...                        1   \n",
       "2  cbf98ef024c88c8f00faae4cefa5a6330f6a3e433ad95c...                        1   \n",
       "3  cbf98ef024c88c8f00faae4cefa5a6330f6a3e433ad95c...                        1   \n",
       "4  cb4573ba1151aaa938786ab521f7cdc96b8f56b56835ce...                        1   \n",
       "\n",
       "   ANNUAL_SALARY  DEPARTMENT  LESS_THAN_1YR_IND  \n",
       "0       46238.40         882                  0  \n",
       "1       52208.00         882                  0  \n",
       "2       42931.20         882                  0  \n",
       "3       43950.40         882                  0  \n",
       "4      111476.59         882                  0  "
      ]
     },
     "execution_count": 4,
     "metadata": {},
     "output_type": "execute_result"
    }
   ],
   "source": [
    "# first 5 columns\n",
    "# employee id has been anonymized prior to loading\n",
    "df[['EMPLOYEE_ID', 'IS_CURRENTLY_ACTIVE_IND', 'ANNUAL_SALARY', 'DEPARTMENT', 'LESS_THAN_1YR_IND']].head()"
   ]
  },
  {
   "cell_type": "code",
   "execution_count": 5,
   "id": "483901ee",
   "metadata": {},
   "outputs": [
    {
     "data": {
      "text/html": [
       "<div>\n",
       "<style scoped>\n",
       "    .dataframe tbody tr th:only-of-type {\n",
       "        vertical-align: middle;\n",
       "    }\n",
       "\n",
       "    .dataframe tbody tr th {\n",
       "        vertical-align: top;\n",
       "    }\n",
       "\n",
       "    .dataframe thead th {\n",
       "        text-align: right;\n",
       "    }\n",
       "</style>\n",
       "<table border=\"1\" class=\"dataframe\">\n",
       "  <thead>\n",
       "    <tr style=\"text-align: right;\">\n",
       "      <th></th>\n",
       "      <th>GENDER</th>\n",
       "      <th>ETHNICITY_GROUP</th>\n",
       "      <th>GENERATION_DESCRIPTION</th>\n",
       "      <th>LOCATION_GROUP</th>\n",
       "      <th>MANAGER_INDICATOR</th>\n",
       "    </tr>\n",
       "  </thead>\n",
       "  <tbody>\n",
       "    <tr>\n",
       "      <th>0</th>\n",
       "      <td>Men</td>\n",
       "      <td>White</td>\n",
       "      <td>Generation Y / Millennials (1981 -1996)</td>\n",
       "      <td>Full-Time Remote</td>\n",
       "      <td>N</td>\n",
       "    </tr>\n",
       "    <tr>\n",
       "      <th>1</th>\n",
       "      <td>Men</td>\n",
       "      <td>White</td>\n",
       "      <td>Generation X (1965 -1980)</td>\n",
       "      <td>Full-Time Remote</td>\n",
       "      <td>N</td>\n",
       "    </tr>\n",
       "    <tr>\n",
       "      <th>2</th>\n",
       "      <td>Women</td>\n",
       "      <td>Hispanic or Latino</td>\n",
       "      <td>Generation Y / Millennials (1981 -1996)</td>\n",
       "      <td>Full-Time Remote</td>\n",
       "      <td>N</td>\n",
       "    </tr>\n",
       "    <tr>\n",
       "      <th>3</th>\n",
       "      <td>Women</td>\n",
       "      <td>Hispanic or Latino</td>\n",
       "      <td>Generation Y / Millennials (1981 -1996)</td>\n",
       "      <td>Full-Time Remote</td>\n",
       "      <td>N</td>\n",
       "    </tr>\n",
       "    <tr>\n",
       "      <th>4</th>\n",
       "      <td>Men</td>\n",
       "      <td>White</td>\n",
       "      <td>Baby Boomers (1946-1964)</td>\n",
       "      <td>Full-Time Remote</td>\n",
       "      <td>N</td>\n",
       "    </tr>\n",
       "  </tbody>\n",
       "</table>\n",
       "</div>"
      ],
      "text/plain": [
       "  GENDER     ETHNICITY_GROUP                   GENERATION_DESCRIPTION  \\\n",
       "0    Men               White  Generation Y / Millennials (1981 -1996)   \n",
       "1    Men               White                Generation X (1965 -1980)   \n",
       "2  Women  Hispanic or Latino  Generation Y / Millennials (1981 -1996)   \n",
       "3  Women  Hispanic or Latino  Generation Y / Millennials (1981 -1996)   \n",
       "4    Men               White                 Baby Boomers (1946-1964)   \n",
       "\n",
       "     LOCATION_GROUP MANAGER_INDICATOR  \n",
       "0  Full-Time Remote                 N  \n",
       "1  Full-Time Remote                 N  \n",
       "2  Full-Time Remote                 N  \n",
       "3  Full-Time Remote                 N  \n",
       "4  Full-Time Remote                 N  "
      ]
     },
     "execution_count": 5,
     "metadata": {},
     "output_type": "execute_result"
    }
   ],
   "source": [
    "# next 5 columns\n",
    "df[['GENDER', 'ETHNICITY_GROUP', 'GENERATION_DESCRIPTION', 'LOCATION_GROUP', 'MANAGER_INDICATOR']].head()"
   ]
  },
  {
   "cell_type": "code",
   "execution_count": 6,
   "id": "43e1621d",
   "metadata": {},
   "outputs": [
    {
     "data": {
      "text/html": [
       "<div>\n",
       "<style scoped>\n",
       "    .dataframe tbody tr th:only-of-type {\n",
       "        vertical-align: middle;\n",
       "    }\n",
       "\n",
       "    .dataframe tbody tr th {\n",
       "        vertical-align: top;\n",
       "    }\n",
       "\n",
       "    .dataframe thead th {\n",
       "        text-align: right;\n",
       "    }\n",
       "</style>\n",
       "<table border=\"1\" class=\"dataframe\">\n",
       "  <thead>\n",
       "    <tr style=\"text-align: right;\">\n",
       "      <th></th>\n",
       "      <th>TERMINATION_COUNT</th>\n",
       "      <th>TERMINATION_DATE</th>\n",
       "      <th>TIME_OFF_DATE</th>\n",
       "      <th>TOTAL_HOURS_APPROVED</th>\n",
       "      <th>HOURS_DENIED</th>\n",
       "    </tr>\n",
       "  </thead>\n",
       "  <tbody>\n",
       "    <tr>\n",
       "      <th>0</th>\n",
       "      <td>0</td>\n",
       "      <td>NaN</td>\n",
       "      <td>2022-03-15</td>\n",
       "      <td>3.33</td>\n",
       "      <td>0.0</td>\n",
       "    </tr>\n",
       "    <tr>\n",
       "      <th>1</th>\n",
       "      <td>0</td>\n",
       "      <td>NaN</td>\n",
       "      <td>2022-03-17</td>\n",
       "      <td>4.00</td>\n",
       "      <td>0.0</td>\n",
       "    </tr>\n",
       "    <tr>\n",
       "      <th>2</th>\n",
       "      <td>0</td>\n",
       "      <td>NaN</td>\n",
       "      <td>2022-04-20</td>\n",
       "      <td>8.00</td>\n",
       "      <td>0.0</td>\n",
       "    </tr>\n",
       "    <tr>\n",
       "      <th>3</th>\n",
       "      <td>0</td>\n",
       "      <td>NaN</td>\n",
       "      <td>2022-04-27</td>\n",
       "      <td>2.50</td>\n",
       "      <td>0.0</td>\n",
       "    </tr>\n",
       "    <tr>\n",
       "      <th>4</th>\n",
       "      <td>0</td>\n",
       "      <td>NaN</td>\n",
       "      <td>2022-03-03</td>\n",
       "      <td>8.00</td>\n",
       "      <td>0.0</td>\n",
       "    </tr>\n",
       "  </tbody>\n",
       "</table>\n",
       "</div>"
      ],
      "text/plain": [
       "   TERMINATION_COUNT TERMINATION_DATE TIME_OFF_DATE  TOTAL_HOURS_APPROVED  \\\n",
       "0                  0              NaN    2022-03-15                  3.33   \n",
       "1                  0              NaN    2022-03-17                  4.00   \n",
       "2                  0              NaN    2022-04-20                  8.00   \n",
       "3                  0              NaN    2022-04-27                  2.50   \n",
       "4                  0              NaN    2022-03-03                  8.00   \n",
       "\n",
       "   HOURS_DENIED  \n",
       "0           0.0  \n",
       "1           0.0  \n",
       "2           0.0  \n",
       "3           0.0  \n",
       "4           0.0  "
      ]
     },
     "execution_count": 6,
     "metadata": {},
     "output_type": "execute_result"
    }
   ],
   "source": [
    "# next 5 columns\n",
    "df[['TERMINATION_COUNT', 'TERMINATION_DATE', 'TIME_OFF_DATE', 'TOTAL_HOURS_APPROVED', 'HOURS_DENIED']].head()"
   ]
  },
  {
   "cell_type": "code",
   "execution_count": 7,
   "id": "396e3138",
   "metadata": {},
   "outputs": [
    {
     "data": {
      "text/html": [
       "<div>\n",
       "<style scoped>\n",
       "    .dataframe tbody tr th:only-of-type {\n",
       "        vertical-align: middle;\n",
       "    }\n",
       "\n",
       "    .dataframe tbody tr th {\n",
       "        vertical-align: top;\n",
       "    }\n",
       "\n",
       "    .dataframe thead th {\n",
       "        text-align: right;\n",
       "    }\n",
       "</style>\n",
       "<table border=\"1\" class=\"dataframe\">\n",
       "  <thead>\n",
       "    <tr style=\"text-align: right;\">\n",
       "      <th></th>\n",
       "      <th>HOURS_CANCELLED</th>\n",
       "      <th>FINAL_USED_HOURS</th>\n",
       "      <th>FINAL_STATUS</th>\n",
       "    </tr>\n",
       "  </thead>\n",
       "  <tbody>\n",
       "    <tr>\n",
       "      <th>0</th>\n",
       "      <td>0.0</td>\n",
       "      <td>3.33</td>\n",
       "      <td>APPROVED</td>\n",
       "    </tr>\n",
       "    <tr>\n",
       "      <th>1</th>\n",
       "      <td>0.0</td>\n",
       "      <td>4.00</td>\n",
       "      <td>APPROVED</td>\n",
       "    </tr>\n",
       "    <tr>\n",
       "      <th>2</th>\n",
       "      <td>0.0</td>\n",
       "      <td>8.00</td>\n",
       "      <td>APPROVED</td>\n",
       "    </tr>\n",
       "    <tr>\n",
       "      <th>3</th>\n",
       "      <td>0.0</td>\n",
       "      <td>2.50</td>\n",
       "      <td>APPROVED</td>\n",
       "    </tr>\n",
       "    <tr>\n",
       "      <th>4</th>\n",
       "      <td>0.0</td>\n",
       "      <td>8.00</td>\n",
       "      <td>APPROVED</td>\n",
       "    </tr>\n",
       "  </tbody>\n",
       "</table>\n",
       "</div>"
      ],
      "text/plain": [
       "   HOURS_CANCELLED  FINAL_USED_HOURS FINAL_STATUS\n",
       "0              0.0              3.33     APPROVED\n",
       "1              0.0              4.00     APPROVED\n",
       "2              0.0              8.00     APPROVED\n",
       "3              0.0              2.50     APPROVED\n",
       "4              0.0              8.00     APPROVED"
      ]
     },
     "execution_count": 7,
     "metadata": {},
     "output_type": "execute_result"
    }
   ],
   "source": [
    "# next (and final_ 3 columns\n",
    "df[['HOURS_CANCELLED', 'FINAL_USED_HOURS', 'FINAL_STATUS']].head()"
   ]
  },
  {
   "cell_type": "markdown",
   "id": "924900f5",
   "metadata": {},
   "source": [
    "### Transform Data"
   ]
  },
  {
   "cell_type": "markdown",
   "id": "d0e39ff3",
   "metadata": {},
   "source": [
    "Although much work was done on this data prior to being uploaded in order to prepare it for analysis, some additional work is needed. Below, we will add additional termination values to allow for a large enough sample. We will also drop the termination date, as terminated individuals terminated in the month of their last time off date. This will be used to identify their termination month. Additionally, time off date is converted to a date type in order to allow extraction of the month. September, October, November, and December are being dropped from the dataset due to incomplete information. Analysis will be performed on data from January through August. Finally, the generation column is simplified."
   ]
  },
  {
   "cell_type": "code",
   "execution_count": 8,
   "id": "86953311",
   "metadata": {},
   "outputs": [],
   "source": [
    "# create additional terminated employees to allow for a large enough sample for modeling\n",
    "df['TERMINATION_COUNT'] = df['TERMINATION_COUNT'].sample(n = 1000, random_state = 12).replace(0, 1)\n",
    "# 0's are turned into NaN after replace, so turn them back into 0\n",
    "df['TERMINATION_COUNT'] = df['TERMINATION_COUNT'].fillna(0)\n",
    "\n",
    "# separate terms and non-terms\n",
    "terms = df.loc[df['TERMINATION_COUNT'] == 1]\n",
    "non_terms = df.loc[df['TERMINATION_COUNT'] == 0]\n",
    "\n",
    "# make sure one employee does not have more than 1 termination\n",
    "terms = terms.drop_duplicates(subset = [\"EMPLOYEE_ID\", \"TERMINATION_COUNT\"], keep = 'first')\n",
    "\n",
    "# re-combine terms and non-terms after assuring only 1 term per person\n",
    "df = pd.concat([terms, non_terms])"
   ]
  },
  {
   "cell_type": "code",
   "execution_count": 9,
   "id": "88aa84b4",
   "metadata": {},
   "outputs": [],
   "source": [
    "# select all termination instances\n",
    "termed = df.loc[df['TERMINATION_COUNT'] == 1]\n",
    "\n",
    "# build list of termed employees\n",
    "termed = termed['EMPLOYEE_ID'].tolist()\n",
    "\n",
    "# make all termed individuals not currently active with IS_CURRENTLY_ACTIVE_IND\n",
    "df['IS_CURRENTLY_ACTIVE_IND'] = df['EMPLOYEE_ID'].isin(termed).astype(int)\n",
    "\n",
    "# above assigns opposite as expected, this changes to clear yes/no\n",
    "df.loc[df[\"IS_CURRENTLY_ACTIVE_IND\"] == 0, \"IS_CURRENTLY_ACTIVE_IND\"] = 'YES'\n",
    "df.loc[df[\"IS_CURRENTLY_ACTIVE_IND\"] == 1, \"IS_CURRENTLY_ACTIVE_IND\"] = 'NO'"
   ]
  },
  {
   "cell_type": "code",
   "execution_count": 10,
   "id": "5ef39688",
   "metadata": {},
   "outputs": [],
   "source": [
    "# if an employee terminated, they terminated in the month of their final time off date\n",
    "# thus, we do not need an exact time off date\n",
    "df = df.drop(['TERMINATION_DATE'], axis = 1)"
   ]
  },
  {
   "cell_type": "code",
   "execution_count": 11,
   "id": "50569767",
   "metadata": {},
   "outputs": [],
   "source": [
    "# converts date strings to date type for ease of use\n",
    "df['TIME_OFF_DATE'] = pd.to_datetime(df['TIME_OFF_DATE'], format = '%Y-%m-%d')"
   ]
  },
  {
   "cell_type": "code",
   "execution_count": 12,
   "id": "e2cfed0d",
   "metadata": {},
   "outputs": [],
   "source": [
    "# extract month of time off date\n",
    "df['TIME_OFF_MONTH'] = pd.DatetimeIndex(df['TIME_OFF_DATE']).month"
   ]
  },
  {
   "cell_type": "code",
   "execution_count": 13,
   "id": "18fbc76a",
   "metadata": {},
   "outputs": [],
   "source": [
    "# data is missing from months 9-12. We will drop these months for the sake of this analysis\n",
    "# this is due to a data load issue at my company that is being addressed, but for now this data is not\n",
    "# accurate and should not be considered\n",
    "df = df[df['TIME_OFF_MONTH'] != 9]\n",
    "df = df[df['TIME_OFF_MONTH'] != 10]\n",
    "df = df[df['TIME_OFF_MONTH'] != 11]\n",
    "df = df[df['TIME_OFF_MONTH'] != 12]"
   ]
  },
  {
   "cell_type": "code",
   "execution_count": 14,
   "id": "f716f74b",
   "metadata": {},
   "outputs": [],
   "source": [
    "# simplify generation names\n",
    "df.loc[df[\"GENERATION_DESCRIPTION\"] == 'Baby Boomers (1946-1964)', \n",
    "        \"GENERATION_DESCRIPTION\"] = 'Baby Boomers'\n",
    "df.loc[df[\"GENERATION_DESCRIPTION\"] == 'Generation X (1965 -1980)', \n",
    "        \"GENERATION_DESCRIPTION\"] = 'Gen X'\n",
    "df.loc[df[\"GENERATION_DESCRIPTION\"] == 'Generation Y / Millennials (1981 -1996)', \n",
    "        \"GENERATION_DESCRIPTION\"] = 'Millennials'\n",
    "df.loc[df[\"GENERATION_DESCRIPTION\"] == 'Generation Z (1997 and onwards)', \n",
    "        \"GENERATION_DESCRIPTION\"] = 'Gen Z'\n",
    "df.loc[df[\"GENERATION_DESCRIPTION\"] == 'Silent Generation (1928 -1945)', \n",
    "        \"GENERATION_DESCRIPTION\"] = 'Silent Generation'"
   ]
  },
  {
   "cell_type": "markdown",
   "id": "a0a5335b",
   "metadata": {},
   "source": [
    "### Visualization"
   ]
  },
  {
   "cell_type": "markdown",
   "id": "6ed3bfae",
   "metadata": {},
   "source": [
    "The first visualization we are interested in is comparing termination across time with absences across time. The plot below will show termination count and absence count by month across the year."
   ]
  },
  {
   "cell_type": "code",
   "execution_count": 15,
   "id": "16cdc80a",
   "metadata": {},
   "outputs": [],
   "source": [
    "# count time off days by month\n",
    "monthly_counts = df.groupby(['TIME_OFF_MONTH'])['TIME_OFF_DATE'].size().to_frame().reset_index()"
   ]
  },
  {
   "cell_type": "code",
   "execution_count": 16,
   "id": "92c150fa",
   "metadata": {},
   "outputs": [],
   "source": [
    "# convert numeric months to strings\n",
    "monthly_counts.loc[monthly_counts[\"TIME_OFF_MONTH\"] == 1, \"TIME_OFF_MONTH\"] = 'Jan'\n",
    "monthly_counts.loc[monthly_counts[\"TIME_OFF_MONTH\"] == 2, \"TIME_OFF_MONTH\"] = 'Feb'\n",
    "monthly_counts.loc[monthly_counts[\"TIME_OFF_MONTH\"] == 3, \"TIME_OFF_MONTH\"] = 'Mar'\n",
    "monthly_counts.loc[monthly_counts[\"TIME_OFF_MONTH\"] == 4, \"TIME_OFF_MONTH\"] = 'Apr'\n",
    "monthly_counts.loc[monthly_counts[\"TIME_OFF_MONTH\"] == 5, \"TIME_OFF_MONTH\"] = 'May'\n",
    "monthly_counts.loc[monthly_counts[\"TIME_OFF_MONTH\"] == 6, \"TIME_OFF_MONTH\"] = 'Jun'\n",
    "monthly_counts.loc[monthly_counts[\"TIME_OFF_MONTH\"] == 7, \"TIME_OFF_MONTH\"] = 'Jul'\n",
    "monthly_counts.loc[monthly_counts[\"TIME_OFF_MONTH\"] == 8, \"TIME_OFF_MONTH\"] = 'Aug'"
   ]
  },
  {
   "cell_type": "code",
   "execution_count": 17,
   "id": "bb814726",
   "metadata": {},
   "outputs": [],
   "source": [
    "# count terminations by month\n",
    "term_counts = df.groupby(['TIME_OFF_MONTH'])['TERMINATION_COUNT'].sum().to_frame().reset_index()"
   ]
  },
  {
   "cell_type": "code",
   "execution_count": 18,
   "id": "1eb3bcf3",
   "metadata": {},
   "outputs": [],
   "source": [
    "# convert numeric months to strings\n",
    "term_counts.loc[term_counts[\"TIME_OFF_MONTH\"] == 1, \"TIME_OFF_MONTH\"] = 'Jan'\n",
    "term_counts.loc[term_counts[\"TIME_OFF_MONTH\"] == 2, \"TIME_OFF_MONTH\"] = 'Feb'\n",
    "term_counts.loc[term_counts[\"TIME_OFF_MONTH\"] == 3, \"TIME_OFF_MONTH\"] = 'Mar'\n",
    "term_counts.loc[term_counts[\"TIME_OFF_MONTH\"] == 4, \"TIME_OFF_MONTH\"] = 'Apr'\n",
    "term_counts.loc[term_counts[\"TIME_OFF_MONTH\"] == 5, \"TIME_OFF_MONTH\"] = 'May'\n",
    "term_counts.loc[term_counts[\"TIME_OFF_MONTH\"] == 6, \"TIME_OFF_MONTH\"] = 'Jun'\n",
    "term_counts.loc[term_counts[\"TIME_OFF_MONTH\"] == 7, \"TIME_OFF_MONTH\"] = 'Jul'\n",
    "term_counts.loc[term_counts[\"TIME_OFF_MONTH\"] == 8, \"TIME_OFF_MONTH\"] = 'Aug'"
   ]
  },
  {
   "cell_type": "code",
   "execution_count": 19,
   "id": "1fa48ee2",
   "metadata": {},
   "outputs": [
    {
     "data": {
      "image/png": "[encoded data removed]",
      "text/plain": [
       "<Figure size 864x432 with 2 Axes>"
      ]
     },
     "metadata": {
      "needs_background": "light"
     },
     "output_type": "display_data"
    }
   ],
   "source": [
    "# store data\n",
    "x = monthly_counts['TIME_OFF_MONTH'].tolist()\n",
    "y1 = monthly_counts['TIME_OFF_DATE'].tolist()\n",
    "y2 = term_counts['TERMINATION_COUNT'].tolist()\n",
    "\n",
    "# plotting and labeling\n",
    "fig, ax1 = plt.subplots(figsize = (12, 6))\n",
    "\n",
    "ax1.set_xlabel('Time Off Month', fontsize = 13)\n",
    "ax1.set_title(\"Time Off Days and Termination Count by Month\", fontsize = 13)\n",
    "ax1.set_ylabel('Time Off Days', color = 'darkslategray', \n",
    "              fontsize = 13)\n",
    "ax1.plot(x, y1, color = 'darkslategray', linewidth = 2)\n",
    "ax1.tick_params(axis = 'y', labelcolor = 'darkslategray')\n",
    "\n",
    "ax2 = ax1.twinx()  # instantiate a second axes that shares the same x-axis\n",
    "\n",
    "ax2.set_ylabel('Termination Count', color = 'mediumvioletred',\n",
    "              fontsize = 13)  # we already handled the x-label with ax1\n",
    "ax2.plot(x, y2, color = 'mediumvioletred', linewidth = 2)\n",
    "ax2.tick_params(axis = 'y', labelcolor = 'mediumvioletred')\n",
    "\n",
    "fig.tight_layout()  # otherwise the right y-label is slightly clipped\n",
    "plt.show()"
   ]
  },
  {
   "cell_type": "markdown",
   "id": "070f3fc0",
   "metadata": {},
   "source": [
    "If our original hypothesis that absences align with termination is correct, we should expect to see each of the lines above to follow the same trend. Although there is some variation between the two lines, the overall pattern does appear to be similar, with the lowest number of terminations being around the same time as the lowest number of absences, and the largest number of terminations being around the same time as the largest number of absences. Thus, this plot may suggest that those who are going to terminate take more time off in the month of their termination."
   ]
  },
  {
   "cell_type": "code",
   "execution_count": 20,
   "id": "24bbda96",
   "metadata": {},
   "outputs": [],
   "source": [
    "# separate out terminated employees and find count of time off by month, per employee\n",
    "all_terms = df.loc[df['IS_CURRENTLY_ACTIVE_IND'] == 'NO']\n",
    "time_off_terms = all_terms.groupby(['EMPLOYEE_ID','TIME_OFF_MONTH'])['TIME_OFF_DATE'].count().to_frame().reset_index()"
   ]
  },
  {
   "cell_type": "code",
   "execution_count": 21,
   "id": "ee410405",
   "metadata": {},
   "outputs": [],
   "source": [
    "# separate out active employees and find count of time off by month, per employee\n",
    "all_reg = df.loc[df['IS_CURRENTLY_ACTIVE_IND'] == 'YES']\n",
    "time_off_reg = all_reg.groupby(['EMPLOYEE_ID','TIME_OFF_MONTH'])['TIME_OFF_DATE'].count().to_frame().reset_index()"
   ]
  },
  {
   "cell_type": "code",
   "execution_count": 22,
   "id": "3008708f",
   "metadata": {},
   "outputs": [],
   "source": [
    "# find average time off by month (dividing by term population) for terminated employees\n",
    "by_month_term = time_off_terms.groupby(['TIME_OFF_MONTH'])['TIME_OFF_DATE'].sum()/len(all_terms\\\n",
    "                                                                                      ['EMPLOYEE_ID'].unique())\n",
    "by_month_term = by_month_term.to_frame().reset_index()"
   ]
  },
  {
   "cell_type": "code",
   "execution_count": 23,
   "id": "06c1b668",
   "metadata": {},
   "outputs": [],
   "source": [
    "# find average time off by month (dividing by active population) for active employees\n",
    "by_month_active = time_off_reg.groupby(['TIME_OFF_MONTH'])['TIME_OFF_DATE'].sum()/len(all_reg\\\n",
    "                                                                                      ['EMPLOYEE_ID'].unique())\n",
    "by_month_active = by_month_active.to_frame().reset_index()"
   ]
  },
  {
   "cell_type": "code",
   "execution_count": 24,
   "id": "4ca416e7",
   "metadata": {},
   "outputs": [
    {
     "data": {
      "image/png": "[encoded data removed]",
      "text/plain": [
       "<Figure size 864x504 with 1 Axes>"
      ]
     },
     "metadata": {
      "needs_background": "light"
     },
     "output_type": "display_data"
    }
   ],
   "source": [
    "# number of bar pairs\n",
    "N = 8\n",
    "\n",
    "# term data\n",
    "term_data = by_month_term['TIME_OFF_DATE'].tolist()\n",
    "# active data\n",
    "active_data = by_month_active['TIME_OFF_DATE'].tolist()\n",
    "\n",
    "# position of bars on x-axis\n",
    "ind = np.arange(N)\n",
    "\n",
    "# figure size\n",
    "plt.figure(figsize = (12,7))\n",
    "\n",
    "# width of a bar \n",
    "width = 0.35       \n",
    "\n",
    "# plotting and labeling\n",
    "plt.bar(ind, term_data , width, label = 'Terms', color = 'mediumvioletred')\n",
    "plt.bar(ind + width, active_data, width, label = 'Active', color = 'darkslategray')\n",
    "\n",
    "plt.xlabel('Month')\n",
    "plt.ylabel('Average Time Off (Days Count / Total Employees)')\n",
    "plt.title('Average Time Off by Month (Terms vs. Active)')\n",
    "\n",
    "# where ticks should be placed and labels to be placed\n",
    "plt.xticks(ind + width / 2,\n",
    "          ('Jan', 'Feb', 'Mar', 'Apr', 'May', 'Jun', 'Jul', 'Aug'))\n",
    "\n",
    "# finding the best position for legends\n",
    "plt.legend(loc = 'best')\n",
    "plt.show()"
   ]
  },
  {
   "cell_type": "markdown",
   "id": "2c9b156b",
   "metadata": {},
   "source": [
    "The next plot we are interested in looking at is average time off by month for those who have terminated and those who are active. By looking at this graph, rather than simply looking at monthly trends, we can also look at trends across the year to see if employees are more likely to take a higher number of absences across the year before termination. As is evident by the plot above, the average number of absences taken is higher for those who terminate in that year, per month, while the average number of absences taken is lower for those who are active employees throughout the entire year. This supports the prior plot."
   ]
  },
  {
   "cell_type": "code",
   "execution_count": 25,
   "id": "9873b8c7",
   "metadata": {},
   "outputs": [],
   "source": [
    "# build data (sum of terminations by department)\n",
    "data = [df.groupby(['DEPARTMENT'])['TERMINATION_COUNT'].sum().to_frame().reset_index()['DEPARTMENT'].tolist(),\n",
    "    df.groupby(['DEPARTMENT'])['TERMINATION_COUNT'].sum().to_frame().reset_index()['TERMINATION_COUNT'].tolist(),\n",
    "       df.groupby(['DEPARTMENT'])['EMPLOYEE_ID'].count().to_frame().reset_index()['EMPLOYEE_ID'].tolist()]\n",
    "\n",
    "# format data and average across employees\n",
    "dpmt = pd.DataFrame(data)\n",
    "dpmt = dpmt.transpose().values.tolist()\n",
    "dpmt = pd.DataFrame(dpmt)\n",
    "dpmt.rename(columns = {0 : 'DEPARTMENT', 1 : 'TERMINATION_COUNT', 2 : 'EMPLOYEE_COUNT'}, inplace = True)\n",
    "dpmt[\"AVERAGE_TERM_PER_THOUSAND\"] = round(dpmt[\"TERMINATION_COUNT\"]/dpmt[\"EMPLOYEE_COUNT\"], 5) * 1000\n",
    "dpmt['DEPARTMENT'] = dpmt['DEPARTMENT'].astype(int)"
   ]
  },
  {
   "cell_type": "code",
   "execution_count": 26,
   "id": "650b77df",
   "metadata": {},
   "outputs": [
    {
     "data": {
      "image/png": "[encoded data removed]",
      "text/plain": [
       "<Figure size 1152x504 with 1 Axes>"
      ]
     },
     "metadata": {
      "needs_background": "light"
     },
     "output_type": "display_data"
    }
   ],
   "source": [
    "# set indices and width\n",
    "ind = np.arange(18)\n",
    "width = 0.4\n",
    "\n",
    "fig = plt.figure(figsize = (16, 7))\n",
    " \n",
    "# creating the bar plot and labels\n",
    "plt.bar(ind, dpmt['AVERAGE_TERM_PER_THOUSAND'], color = 'darkslategray',\n",
    "        width = width)\n",
    " \n",
    "plt.xlabel(\"Department\")\n",
    "plt.ylabel(\"Average Termination (Per Thousand)\")\n",
    "plt.title(\"Average Termination by Department\")\n",
    "plt.xticks(ind,\n",
    "          ('502', '512', '532', '542', '552', '562', '572', '592', '730', '734',\n",
    "          '735', '762', '768', '781', '782', '822', '832', '882'))\n",
    "plt.show()"
   ]
  },
  {
   "cell_type": "markdown",
   "id": "b034d4ed",
   "metadata": {},
   "source": [
    "To take a look at some of the additional factors we wish to examine, we next examine the average number of terminations (per 1,000 employees) for each department within the organization. The plot above suggests that there are only slight differences between the departments, with the largest difference being a high rate of termination in department 754. "
   ]
  },
  {
   "cell_type": "code",
   "execution_count": 27,
   "id": "f4fdc143",
   "metadata": {},
   "outputs": [],
   "source": [
    "# build data (sum of terminations by department)\n",
    "data = [df.groupby(['GENERATION_DESCRIPTION'])['TERMINATION_COUNT'].sum().to_frame().reset_index()\\\n",
    "        ['GENERATION_DESCRIPTION'].tolist(),\n",
    "        df.groupby(['GENERATION_DESCRIPTION'])['TERMINATION_COUNT'].sum().to_frame().reset_index()\\\n",
    "        ['TERMINATION_COUNT'].tolist(),\n",
    "       df.groupby(['GENERATION_DESCRIPTION'])['EMPLOYEE_ID'].count().to_frame().reset_index()\\\n",
    "        ['EMPLOYEE_ID'].tolist()]\n",
    "\n",
    "# format data and average across employees\n",
    "gen = pd.DataFrame(data)\n",
    "gen = gen.transpose().values.tolist()\n",
    "gen = pd.DataFrame(gen)\n",
    "gen.rename(columns = {0 : 'GENERATION_DESCRIPTION', 1 : 'TERMINATION_COUNT', 2 : 'EMPLOYEE_COUNT'}, inplace = True)\n",
    "gen[\"AVERAGE_TERM_PER_THOUSAND\"] = round(gen[\"TERMINATION_COUNT\"]/gen[\"EMPLOYEE_COUNT\"], 5) * 1000"
   ]
  },
  {
   "cell_type": "code",
   "execution_count": 28,
   "id": "21286903",
   "metadata": {},
   "outputs": [
    {
     "data": {
      "image/png": "[encoded data removed]",
      "text/plain": [
       "<Figure size 864x504 with 1 Axes>"
      ]
     },
     "metadata": {
      "needs_background": "light"
     },
     "output_type": "display_data"
    }
   ],
   "source": [
    "# set indices and width\n",
    "ind = np.arange(5)\n",
    "width = 0.4\n",
    "\n",
    "fig = plt.figure(figsize = (12, 7))\n",
    " \n",
    "# creating the bar plot and labels\n",
    "plt.bar(ind, gen['AVERAGE_TERM_PER_THOUSAND'], color = 'darkslategray',\n",
    "        width = width)\n",
    " \n",
    "plt.xlabel(\"Generation\")\n",
    "plt.ylabel(\"Average Termination (Per Thousand)\")\n",
    "plt.title(\"Average Termination by Generation\")\n",
    "plt.xticks(ind,\n",
    "          ('Baby Boomers', 'Gen X', 'Gen Z', 'Millennials', 'Silent Generation'))\n",
    "plt.show()"
   ]
  },
  {
   "cell_type": "markdown",
   "id": "1d293372",
   "metadata": {},
   "source": [
    "Looking now at termination across generations, although there are slight differences, these are not likely to be statistically significant. There does not appear to be much of a relationship between age and termination."
   ]
  },
  {
   "cell_type": "code",
   "execution_count": 29,
   "id": "1d01121c",
   "metadata": {},
   "outputs": [],
   "source": [
    "# build data (sum of terminations by time in job)\n",
    "data = [df.groupby(['LESS_THAN_1YR_IND'])['TERMINATION_COUNT'].sum().to_frame().reset_index()\\\n",
    "        ['LESS_THAN_1YR_IND'].tolist(),\n",
    "        df.groupby(['LESS_THAN_1YR_IND'])['TERMINATION_COUNT'].sum().to_frame().reset_index()\\\n",
    "        ['TERMINATION_COUNT'].tolist(),\n",
    "       df.groupby(['LESS_THAN_1YR_IND'])['EMPLOYEE_ID'].count().to_frame().reset_index()\\\n",
    "        ['EMPLOYEE_ID'].tolist()]\n",
    "\n",
    "# format data and average across employees\n",
    "tim = pd.DataFrame(data)\n",
    "tim = tim.transpose().values.tolist()\n",
    "tim = pd.DataFrame(tim)\n",
    "tim.rename(columns = {0 : 'LESS_THAN_1YR_IND', 1 : 'TERMINATION_COUNT', 2 : 'EMPLOYEE_COUNT'}, inplace = True)\n",
    "tim[\"AVERAGE_TERM_PER_THOUSAND\"] = round(tim[\"TERMINATION_COUNT\"]/tim[\"EMPLOYEE_COUNT\"], 5) * 1000"
   ]
  },
  {
   "cell_type": "code",
   "execution_count": 30,
   "id": "64d4b1c3",
   "metadata": {},
   "outputs": [
    {
     "data": {
      "image/png": "[encoded data removed]",
      "text/plain": [
       "<Figure size 576x504 with 1 Axes>"
      ]
     },
     "metadata": {
      "needs_background": "light"
     },
     "output_type": "display_data"
    }
   ],
   "source": [
    "# set indices and width\n",
    "ind = np.arange(2)\n",
    "width = 0.4\n",
    "\n",
    "fig = plt.figure(figsize = (8, 7))\n",
    " \n",
    "# creating the bar plot and labels\n",
    "plt.bar(ind, tim['AVERAGE_TERM_PER_THOUSAND'], color = 'darkslategray',\n",
    "        width = width)\n",
    " \n",
    "plt.xlabel(\"Less Than 1 Year in Job\")\n",
    "plt.ylabel(\"Average Termination (Per Thousand)\")\n",
    "plt.title(\"Average Termination by Time in Job\")\n",
    "plt.xticks(ind,\n",
    "          ('No', 'Yes'))\n",
    "plt.show()"
   ]
  },
  {
   "cell_type": "markdown",
   "id": "e6f20f65",
   "metadata": {},
   "source": [
    "Looking now at termination across time spent in job, we have those who have been in the job less than 1 year, and those who have been in the job more than 1 year. It appears that there is no difference between the two."
   ]
  },
  {
   "cell_type": "code",
   "execution_count": 31,
   "id": "e6f9b012",
   "metadata": {},
   "outputs": [],
   "source": [
    "# break salary into groups using quantiles\n",
    "df['SALARY_QUANTILE'] = pd.qcut(df['ANNUAL_SALARY'], q = 6)\n",
    "\n",
    "# convert to string from interval\n",
    "df['SALARY_QUANTILE'] = df['SALARY_QUANTILE'].values.astype('string')\n",
    "\n",
    "# turns quantile intervals into groups\n",
    "df.loc[df[\"SALARY_QUANTILE\"] == '(-0.001, 44595.2]', \"SALARY_GROUP\"] = 1\n",
    "df.loc[df[\"SALARY_QUANTILE\"] == '(44595.2, 55016.0]', \"SALARY_GROUP\"] = 2\n",
    "df.loc[df[\"SALARY_QUANTILE\"] == '(55016.0, 69136.0]', \"SALARY_GROUP\"] = 3\n",
    "df.loc[df[\"SALARY_QUANTILE\"] == '(69136.0, 90000.0]', \"SALARY_GROUP\"] = 4\n",
    "df.loc[df[\"SALARY_QUANTILE\"] == '(90000.0, 122500.0]', \"SALARY_GROUP\"] = 5\n",
    "df.loc[df[\"SALARY_QUANTILE\"] == '(122500.0, 950000.0]', \"SALARY_GROUP\"] = 6\n",
    "\n",
    "# converrt groups to integer from float\n",
    "df['SALARY_GROUP'] = df['SALARY_GROUP'].values.astype('int')"
   ]
  },
  {
   "cell_type": "code",
   "execution_count": 32,
   "id": "29facc24",
   "metadata": {},
   "outputs": [],
   "source": [
    "# build data (sum of terminations by salary group)\n",
    "data = [df.groupby(['SALARY_GROUP'])['TERMINATION_COUNT'].sum().to_frame().reset_index()\\\n",
    "        ['SALARY_GROUP'].tolist(),\n",
    "        df.groupby(['SALARY_GROUP'])['TERMINATION_COUNT'].sum().to_frame().reset_index()\\\n",
    "        ['TERMINATION_COUNT'].tolist(),\n",
    "       df.groupby(['SALARY_GROUP'])['EMPLOYEE_ID'].count().to_frame().reset_index()\\\n",
    "        ['EMPLOYEE_ID'].tolist()]\n",
    "\n",
    "# format data and average across employees\n",
    "sal = pd.DataFrame(data)\n",
    "sal = sal.transpose().values.tolist()\n",
    "sal = pd.DataFrame(sal)\n",
    "sal.rename(columns = {0 : 'SALARY_GROUP', 1 : 'TERMINATION_COUNT', 2 : 'EMPLOYEE_COUNT'}, inplace = True)\n",
    "sal[\"AVERAGE_TERM_PER_THOUSAND\"] = round(sal[\"TERMINATION_COUNT\"]/sal[\"EMPLOYEE_COUNT\"], 5) * 1000"
   ]
  },
  {
   "cell_type": "code",
   "execution_count": 33,
   "id": "f8fc1429",
   "metadata": {},
   "outputs": [
    {
     "data": {
      "image/png": "[encoded data removed]",
      "text/plain": [
       "<Figure size 720x504 with 1 Axes>"
      ]
     },
     "metadata": {
      "needs_background": "light"
     },
     "output_type": "display_data"
    }
   ],
   "source": [
    "# set indices and width\n",
    "ind = np.arange(6)\n",
    "width = 0.4\n",
    "\n",
    "fig = plt.figure(figsize = (10, 7))\n",
    " \n",
    "# creating the bar plot and labels\n",
    "plt.bar(ind, sal['AVERAGE_TERM_PER_THOUSAND'], color = 'darkslategray',\n",
    "        width = width)\n",
    " \n",
    "plt.xlabel(\"Salary Group (Low to High)\")\n",
    "plt.ylabel(\"Average Termination (Per Thousand)\")\n",
    "plt.title(\"Average Termination by Salary Group\")\n",
    "plt.xticks(ind,\n",
    "          (1, 2, 3, 4, 5, 6))\n",
    "plt.show()"
   ]
  },
  {
   "cell_type": "markdown",
   "id": "8eaee951",
   "metadata": {},
   "source": [
    "To look at our final variable of interest, we want to see if salary impacts termination rate, with 1 being a lower salary and 6 being the highest salary range. Although there are slight differences, there does not appear to be much of a relatioonship between salary and termination."
   ]
  },
  {
   "cell_type": "markdown",
   "id": "0096ac32",
   "metadata": {},
   "source": [
    "### EDA Conclusion"
   ]
  },
  {
   "cell_type": "markdown",
   "id": "f62eaea1",
   "metadata": {},
   "source": [
    "After looking at absence and termination data across the year, along with examining termination rate across individual features, there does appear to be a relationship between termination and absence, as well as a relationship between termination and department and time spent in the job. There is not as clear of a relationship between termination and generation and salary, although additional analysis is needed to confirm or deny the statistical significance of these differences. "
   ]
  },
  {
   "cell_type": "markdown",
   "id": "10ae973a",
   "metadata": {},
   "source": [
    "# Project Milestone 2"
   ]
  },
  {
   "cell_type": "markdown",
   "id": "96701941",
   "metadata": {},
   "source": [
    "### Import Additional Packages"
   ]
  },
  {
   "cell_type": "code",
   "execution_count": 34,
   "id": "419537d8",
   "metadata": {},
   "outputs": [],
   "source": [
    "from sklearn.model_selection import train_test_split\n",
    "from sklearn.preprocessing import StandardScaler\n",
    "from sklearn.decomposition import PCA\n",
    "from sklearn.preprocessing import scale \n",
    "from imblearn.over_sampling import RandomOverSampler"
   ]
  },
  {
   "cell_type": "markdown",
   "id": "6414aef1",
   "metadata": {},
   "source": [
    "## Data Preparation"
   ]
  },
  {
   "cell_type": "markdown",
   "id": "4b56a4d7",
   "metadata": {},
   "source": [
    "### View Data"
   ]
  },
  {
   "cell_type": "code",
   "execution_count": 35,
   "id": "0bf6eded",
   "metadata": {},
   "outputs": [
    {
     "data": {
      "text/html": [
       "<div>\n",
       "<style scoped>\n",
       "    .dataframe tbody tr th:only-of-type {\n",
       "        vertical-align: middle;\n",
       "    }\n",
       "\n",
       "    .dataframe tbody tr th {\n",
       "        vertical-align: top;\n",
       "    }\n",
       "\n",
       "    .dataframe thead th {\n",
       "        text-align: right;\n",
       "    }\n",
       "</style>\n",
       "<table border=\"1\" class=\"dataframe\">\n",
       "  <thead>\n",
       "    <tr style=\"text-align: right;\">\n",
       "      <th></th>\n",
       "      <th>EMPLOYEE_ID</th>\n",
       "      <th>IS_CURRENTLY_ACTIVE_IND</th>\n",
       "      <th>ANNUAL_SALARY</th>\n",
       "      <th>DEPARTMENT</th>\n",
       "      <th>LESS_THAN_1YR_IND</th>\n",
       "      <th>GENDER</th>\n",
       "    </tr>\n",
       "  </thead>\n",
       "  <tbody>\n",
       "    <tr>\n",
       "      <th>200</th>\n",
       "      <td>80941dcdd6dd4d599bd99010e5e5c5a3fe0470af113a1a...</td>\n",
       "      <td>NO</td>\n",
       "      <td>72758.4</td>\n",
       "      <td>882</td>\n",
       "      <td>0</td>\n",
       "      <td>Women</td>\n",
       "    </tr>\n",
       "    <tr>\n",
       "      <th>299</th>\n",
       "      <td>6152a4af8aaf0c00b840f040766280214c103ab23f59e6...</td>\n",
       "      <td>NO</td>\n",
       "      <td>43888.0</td>\n",
       "      <td>882</td>\n",
       "      <td>0</td>\n",
       "      <td>Women</td>\n",
       "    </tr>\n",
       "    <tr>\n",
       "      <th>432</th>\n",
       "      <td>594a7465713e99115dbc5d1de3364bf04a198bfe835012...</td>\n",
       "      <td>NO</td>\n",
       "      <td>79100.0</td>\n",
       "      <td>822</td>\n",
       "      <td>0</td>\n",
       "      <td>Women</td>\n",
       "    </tr>\n",
       "    <tr>\n",
       "      <th>497</th>\n",
       "      <td>1b7984a1ea288b9b1541da621e6b7ba3f2dba42166dfc9...</td>\n",
       "      <td>NO</td>\n",
       "      <td>37252.8</td>\n",
       "      <td>882</td>\n",
       "      <td>0</td>\n",
       "      <td>Women</td>\n",
       "    </tr>\n",
       "    <tr>\n",
       "      <th>540</th>\n",
       "      <td>c8b9b957b9e3a9f9b1b871fa9034c31655e049832212fc...</td>\n",
       "      <td>NO</td>\n",
       "      <td>89500.0</td>\n",
       "      <td>822</td>\n",
       "      <td>0</td>\n",
       "      <td>Women</td>\n",
       "    </tr>\n",
       "  </tbody>\n",
       "</table>\n",
       "</div>"
      ],
      "text/plain": [
       "                                           EMPLOYEE_ID  \\\n",
       "200  80941dcdd6dd4d599bd99010e5e5c5a3fe0470af113a1a...   \n",
       "299  6152a4af8aaf0c00b840f040766280214c103ab23f59e6...   \n",
       "432  594a7465713e99115dbc5d1de3364bf04a198bfe835012...   \n",
       "497  1b7984a1ea288b9b1541da621e6b7ba3f2dba42166dfc9...   \n",
       "540  c8b9b957b9e3a9f9b1b871fa9034c31655e049832212fc...   \n",
       "\n",
       "    IS_CURRENTLY_ACTIVE_IND  ANNUAL_SALARY  DEPARTMENT  LESS_THAN_1YR_IND  \\\n",
       "200                      NO        72758.4         882                  0   \n",
       "299                      NO        43888.0         882                  0   \n",
       "432                      NO        79100.0         822                  0   \n",
       "497                      NO        37252.8         882                  0   \n",
       "540                      NO        89500.0         822                  0   \n",
       "\n",
       "    GENDER  \n",
       "200  Women  \n",
       "299  Women  \n",
       "432  Women  \n",
       "497  Women  \n",
       "540  Women  "
      ]
     },
     "execution_count": 35,
     "metadata": {},
     "output_type": "execute_result"
    }
   ],
   "source": [
    "# first 6 columns\n",
    "df[['EMPLOYEE_ID', 'IS_CURRENTLY_ACTIVE_IND', 'ANNUAL_SALARY', 'DEPARTMENT', 'LESS_THAN_1YR_IND', 'GENDER']].head(5)"
   ]
  },
  {
   "cell_type": "code",
   "execution_count": 36,
   "id": "7a709aa4",
   "metadata": {},
   "outputs": [
    {
     "data": {
      "text/html": [
       "<div>\n",
       "<style scoped>\n",
       "    .dataframe tbody tr th:only-of-type {\n",
       "        vertical-align: middle;\n",
       "    }\n",
       "\n",
       "    .dataframe tbody tr th {\n",
       "        vertical-align: top;\n",
       "    }\n",
       "\n",
       "    .dataframe thead th {\n",
       "        text-align: right;\n",
       "    }\n",
       "</style>\n",
       "<table border=\"1\" class=\"dataframe\">\n",
       "  <thead>\n",
       "    <tr style=\"text-align: right;\">\n",
       "      <th></th>\n",
       "      <th>ETHNICITY_GROUP</th>\n",
       "      <th>GENERATION_DESCRIPTION</th>\n",
       "      <th>LOCATION_GROUP</th>\n",
       "      <th>MANAGER_INDICATOR</th>\n",
       "      <th>TERMINATION_COUNT</th>\n",
       "      <th>TIME_OFF_DATE</th>\n",
       "    </tr>\n",
       "  </thead>\n",
       "  <tbody>\n",
       "    <tr>\n",
       "      <th>200</th>\n",
       "      <td>Hispanic or Latino</td>\n",
       "      <td>Millennials</td>\n",
       "      <td>HUB</td>\n",
       "      <td>N</td>\n",
       "      <td>1.0</td>\n",
       "      <td>2022-06-10</td>\n",
       "    </tr>\n",
       "    <tr>\n",
       "      <th>299</th>\n",
       "      <td>Black or African American</td>\n",
       "      <td>Gen X</td>\n",
       "      <td>Full-Time Remote</td>\n",
       "      <td>N</td>\n",
       "      <td>1.0</td>\n",
       "      <td>2022-03-08</td>\n",
       "    </tr>\n",
       "    <tr>\n",
       "      <th>432</th>\n",
       "      <td>White</td>\n",
       "      <td>Gen X</td>\n",
       "      <td>Full-Time Remote</td>\n",
       "      <td>N</td>\n",
       "      <td>1.0</td>\n",
       "      <td>2022-03-25</td>\n",
       "    </tr>\n",
       "    <tr>\n",
       "      <th>497</th>\n",
       "      <td>Black or African American</td>\n",
       "      <td>Millennials</td>\n",
       "      <td>Full-Time Remote</td>\n",
       "      <td>N</td>\n",
       "      <td>1.0</td>\n",
       "      <td>2022-03-24</td>\n",
       "    </tr>\n",
       "    <tr>\n",
       "      <th>540</th>\n",
       "      <td>White</td>\n",
       "      <td>Baby Boomers</td>\n",
       "      <td>Full-Time Remote</td>\n",
       "      <td>N</td>\n",
       "      <td>1.0</td>\n",
       "      <td>2022-07-29</td>\n",
       "    </tr>\n",
       "  </tbody>\n",
       "</table>\n",
       "</div>"
      ],
      "text/plain": [
       "               ETHNICITY_GROUP GENERATION_DESCRIPTION    LOCATION_GROUP  \\\n",
       "200         Hispanic or Latino            Millennials               HUB   \n",
       "299  Black or African American                  Gen X  Full-Time Remote   \n",
       "432                      White                  Gen X  Full-Time Remote   \n",
       "497  Black or African American            Millennials  Full-Time Remote   \n",
       "540                      White           Baby Boomers  Full-Time Remote   \n",
       "\n",
       "    MANAGER_INDICATOR  TERMINATION_COUNT TIME_OFF_DATE  \n",
       "200                 N                1.0    2022-06-10  \n",
       "299                 N                1.0    2022-03-08  \n",
       "432                 N                1.0    2022-03-25  \n",
       "497                 N                1.0    2022-03-24  \n",
       "540                 N                1.0    2022-07-29  "
      ]
     },
     "execution_count": 36,
     "metadata": {},
     "output_type": "execute_result"
    }
   ],
   "source": [
    "# next 6 columns\n",
    "df[['ETHNICITY_GROUP', 'GENERATION_DESCRIPTION', 'LOCATION_GROUP', 'MANAGER_INDICATOR', 'TERMINATION_COUNT',\n",
    "   'TIME_OFF_DATE']].head(5)"
   ]
  },
  {
   "cell_type": "code",
   "execution_count": 37,
   "id": "5d1cbe20",
   "metadata": {},
   "outputs": [
    {
     "data": {
      "text/html": [
       "<div>\n",
       "<style scoped>\n",
       "    .dataframe tbody tr th:only-of-type {\n",
       "        vertical-align: middle;\n",
       "    }\n",
       "\n",
       "    .dataframe tbody tr th {\n",
       "        vertical-align: top;\n",
       "    }\n",
       "\n",
       "    .dataframe thead th {\n",
       "        text-align: right;\n",
       "    }\n",
       "</style>\n",
       "<table border=\"1\" class=\"dataframe\">\n",
       "  <thead>\n",
       "    <tr style=\"text-align: right;\">\n",
       "      <th></th>\n",
       "      <th>TOTAL_HOURS_APPROVED</th>\n",
       "      <th>HOURS_DENIED</th>\n",
       "      <th>HOURS_CANCELLED</th>\n",
       "      <th>FINAL_USED_HOURS</th>\n",
       "      <th>FINAL_STATUS</th>\n",
       "      <th>TIME_OFF_MONTH</th>\n",
       "    </tr>\n",
       "  </thead>\n",
       "  <tbody>\n",
       "    <tr>\n",
       "      <th>200</th>\n",
       "      <td>8.00</td>\n",
       "      <td>0.0</td>\n",
       "      <td>0.0</td>\n",
       "      <td>8.00</td>\n",
       "      <td>APPROVED</td>\n",
       "      <td>6</td>\n",
       "    </tr>\n",
       "    <tr>\n",
       "      <th>299</th>\n",
       "      <td>2.25</td>\n",
       "      <td>0.0</td>\n",
       "      <td>0.0</td>\n",
       "      <td>2.25</td>\n",
       "      <td>APPROVED</td>\n",
       "      <td>3</td>\n",
       "    </tr>\n",
       "    <tr>\n",
       "      <th>432</th>\n",
       "      <td>8.00</td>\n",
       "      <td>0.0</td>\n",
       "      <td>0.0</td>\n",
       "      <td>8.00</td>\n",
       "      <td>APPROVED</td>\n",
       "      <td>3</td>\n",
       "    </tr>\n",
       "    <tr>\n",
       "      <th>497</th>\n",
       "      <td>0.45</td>\n",
       "      <td>0.0</td>\n",
       "      <td>0.0</td>\n",
       "      <td>0.45</td>\n",
       "      <td>APPROVED</td>\n",
       "      <td>3</td>\n",
       "    </tr>\n",
       "    <tr>\n",
       "      <th>540</th>\n",
       "      <td>8.00</td>\n",
       "      <td>0.0</td>\n",
       "      <td>0.0</td>\n",
       "      <td>8.00</td>\n",
       "      <td>APPROVED</td>\n",
       "      <td>7</td>\n",
       "    </tr>\n",
       "  </tbody>\n",
       "</table>\n",
       "</div>"
      ],
      "text/plain": [
       "     TOTAL_HOURS_APPROVED  HOURS_DENIED  HOURS_CANCELLED  FINAL_USED_HOURS  \\\n",
       "200                  8.00           0.0              0.0              8.00   \n",
       "299                  2.25           0.0              0.0              2.25   \n",
       "432                  8.00           0.0              0.0              8.00   \n",
       "497                  0.45           0.0              0.0              0.45   \n",
       "540                  8.00           0.0              0.0              8.00   \n",
       "\n",
       "    FINAL_STATUS  TIME_OFF_MONTH  \n",
       "200     APPROVED               6  \n",
       "299     APPROVED               3  \n",
       "432     APPROVED               3  \n",
       "497     APPROVED               3  \n",
       "540     APPROVED               7  "
      ]
     },
     "execution_count": 37,
     "metadata": {},
     "output_type": "execute_result"
    }
   ],
   "source": [
    "# next 6 columns\n",
    "df[['TOTAL_HOURS_APPROVED', 'HOURS_DENIED', 'HOURS_CANCELLED', 'FINAL_USED_HOURS', 'FINAL_STATUS',\n",
    "   'TIME_OFF_MONTH']].head(5)"
   ]
  },
  {
   "cell_type": "code",
   "execution_count": 38,
   "id": "19e2cb0b",
   "metadata": {},
   "outputs": [
    {
     "data": {
      "text/html": [
       "<div>\n",
       "<style scoped>\n",
       "    .dataframe tbody tr th:only-of-type {\n",
       "        vertical-align: middle;\n",
       "    }\n",
       "\n",
       "    .dataframe tbody tr th {\n",
       "        vertical-align: top;\n",
       "    }\n",
       "\n",
       "    .dataframe thead th {\n",
       "        text-align: right;\n",
       "    }\n",
       "</style>\n",
       "<table border=\"1\" class=\"dataframe\">\n",
       "  <thead>\n",
       "    <tr style=\"text-align: right;\">\n",
       "      <th></th>\n",
       "      <th>SALARY_QUANTILE</th>\n",
       "      <th>SALARY_GROUP</th>\n",
       "    </tr>\n",
       "  </thead>\n",
       "  <tbody>\n",
       "    <tr>\n",
       "      <th>200</th>\n",
       "      <td>(69136.0, 90000.0]</td>\n",
       "      <td>4</td>\n",
       "    </tr>\n",
       "    <tr>\n",
       "      <th>299</th>\n",
       "      <td>(-0.001, 44595.2]</td>\n",
       "      <td>1</td>\n",
       "    </tr>\n",
       "    <tr>\n",
       "      <th>432</th>\n",
       "      <td>(69136.0, 90000.0]</td>\n",
       "      <td>4</td>\n",
       "    </tr>\n",
       "    <tr>\n",
       "      <th>497</th>\n",
       "      <td>(-0.001, 44595.2]</td>\n",
       "      <td>1</td>\n",
       "    </tr>\n",
       "    <tr>\n",
       "      <th>540</th>\n",
       "      <td>(69136.0, 90000.0]</td>\n",
       "      <td>4</td>\n",
       "    </tr>\n",
       "  </tbody>\n",
       "</table>\n",
       "</div>"
      ],
      "text/plain": [
       "        SALARY_QUANTILE  SALARY_GROUP\n",
       "200  (69136.0, 90000.0]             4\n",
       "299   (-0.001, 44595.2]             1\n",
       "432  (69136.0, 90000.0]             4\n",
       "497   (-0.001, 44595.2]             1\n",
       "540  (69136.0, 90000.0]             4"
      ]
     },
     "execution_count": 38,
     "metadata": {},
     "output_type": "execute_result"
    }
   ],
   "source": [
    "# last 2 columns\n",
    "df[['SALARY_QUANTILE', 'SALARY_GROUP']].head(5)"
   ]
  },
  {
   "cell_type": "markdown",
   "id": "278b4ff5",
   "metadata": {},
   "source": [
    "### Re-Index"
   ]
  },
  {
   "cell_type": "markdown",
   "id": "fe172b72",
   "metadata": {},
   "source": [
    "Due to some of the data transformations that were already performed to prepare our data for exploratory data analysis, the index (as seen above) begins at 200 and skips around. To clean the data and have accurate indexing, we will re-index the dataframe."
   ]
  },
  {
   "cell_type": "code",
   "execution_count": 39,
   "id": "26c9f48e",
   "metadata": {},
   "outputs": [],
   "source": [
    "# reset index starting from 0\n",
    "df = df.reset_index()\n",
    "# drop additional index column that is added, which contains previous index\n",
    "df = df.drop(columns = ['index'])"
   ]
  },
  {
   "cell_type": "code",
   "execution_count": 40,
   "id": "3ff4e8d6",
   "metadata": {},
   "outputs": [
    {
     "data": {
      "text/html": [
       "<div>\n",
       "<style scoped>\n",
       "    .dataframe tbody tr th:only-of-type {\n",
       "        vertical-align: middle;\n",
       "    }\n",
       "\n",
       "    .dataframe tbody tr th {\n",
       "        vertical-align: top;\n",
       "    }\n",
       "\n",
       "    .dataframe thead th {\n",
       "        text-align: right;\n",
       "    }\n",
       "</style>\n",
       "<table border=\"1\" class=\"dataframe\">\n",
       "  <thead>\n",
       "    <tr style=\"text-align: right;\">\n",
       "      <th></th>\n",
       "      <th>EMPLOYEE_ID</th>\n",
       "      <th>TIME_OFF_DATE</th>\n",
       "      <th>FINAL_USED_HOURS</th>\n",
       "      <th>FINAL_STATUS</th>\n",
       "    </tr>\n",
       "  </thead>\n",
       "  <tbody>\n",
       "    <tr>\n",
       "      <th>0</th>\n",
       "      <td>80941dcdd6dd4d599bd99010e5e5c5a3fe0470af113a1a...</td>\n",
       "      <td>2022-06-10</td>\n",
       "      <td>8.00</td>\n",
       "      <td>APPROVED</td>\n",
       "    </tr>\n",
       "    <tr>\n",
       "      <th>1</th>\n",
       "      <td>6152a4af8aaf0c00b840f040766280214c103ab23f59e6...</td>\n",
       "      <td>2022-03-08</td>\n",
       "      <td>2.25</td>\n",
       "      <td>APPROVED</td>\n",
       "    </tr>\n",
       "    <tr>\n",
       "      <th>2</th>\n",
       "      <td>594a7465713e99115dbc5d1de3364bf04a198bfe835012...</td>\n",
       "      <td>2022-03-25</td>\n",
       "      <td>8.00</td>\n",
       "      <td>APPROVED</td>\n",
       "    </tr>\n",
       "    <tr>\n",
       "      <th>3</th>\n",
       "      <td>1b7984a1ea288b9b1541da621e6b7ba3f2dba42166dfc9...</td>\n",
       "      <td>2022-03-24</td>\n",
       "      <td>0.45</td>\n",
       "      <td>APPROVED</td>\n",
       "    </tr>\n",
       "    <tr>\n",
       "      <th>4</th>\n",
       "      <td>c8b9b957b9e3a9f9b1b871fa9034c31655e049832212fc...</td>\n",
       "      <td>2022-07-29</td>\n",
       "      <td>8.00</td>\n",
       "      <td>APPROVED</td>\n",
       "    </tr>\n",
       "  </tbody>\n",
       "</table>\n",
       "</div>"
      ],
      "text/plain": [
       "                                         EMPLOYEE_ID TIME_OFF_DATE  \\\n",
       "0  80941dcdd6dd4d599bd99010e5e5c5a3fe0470af113a1a...    2022-06-10   \n",
       "1  6152a4af8aaf0c00b840f040766280214c103ab23f59e6...    2022-03-08   \n",
       "2  594a7465713e99115dbc5d1de3364bf04a198bfe835012...    2022-03-25   \n",
       "3  1b7984a1ea288b9b1541da621e6b7ba3f2dba42166dfc9...    2022-03-24   \n",
       "4  c8b9b957b9e3a9f9b1b871fa9034c31655e049832212fc...    2022-07-29   \n",
       "\n",
       "   FINAL_USED_HOURS FINAL_STATUS  \n",
       "0              8.00     APPROVED  \n",
       "1              2.25     APPROVED  \n",
       "2              8.00     APPROVED  \n",
       "3              0.45     APPROVED  \n",
       "4              8.00     APPROVED  "
      ]
     },
     "execution_count": 40,
     "metadata": {},
     "output_type": "execute_result"
    }
   ],
   "source": [
    "# view snapshot of new data to look at index\n",
    "df[['EMPLOYEE_ID', 'TIME_OFF_DATE', 'FINAL_USED_HOURS', 'FINAL_STATUS']].head(5)"
   ]
  },
  {
   "cell_type": "markdown",
   "id": "40b73aa4",
   "metadata": {},
   "source": [
    "### Drop Unnecessary Columns"
   ]
  },
  {
   "cell_type": "markdown",
   "id": "aa504027",
   "metadata": {},
   "source": [
    "The fields *SALARY_QUANTILE* and *SALARY_GROUP* were added during EDA to build the final visual. As we already have the *ANNUAL_SALARY* field, we do not need these additional categorical variables. Further, we will not be analyzing data on a daily basis, only monthly and yearly, therefore we do not need the field for *TIME_OFF_DATE*."
   ]
  },
  {
   "cell_type": "code",
   "execution_count": 41,
   "id": "b40827e3",
   "metadata": {},
   "outputs": [],
   "source": [
    "# drops columns from dataframe that are not needed\n",
    "df = df.drop(columns = ['SALARY_QUANTILE', 'SALARY_GROUP', 'TIME_OFF_DATE'])"
   ]
  },
  {
   "cell_type": "markdown",
   "id": "e710cc85",
   "metadata": {},
   "source": [
    "### Add Useful Features: *MONTHLY_HOURS*, *YEARLY_HOURS*"
   ]
  },
  {
   "cell_type": "markdown",
   "id": "0a979e1f",
   "metadata": {},
   "source": [
    "One of the goals of this analysis is to determine if employees take more time off before terminating. To test this, it may be useful to understand how much time was taken off in the months and the year leading up to termination. Therefore, we will add a field for monthly and yearly hours taken to add to the analysis."
   ]
  },
  {
   "cell_type": "code",
   "execution_count": 42,
   "id": "8e27a9d0",
   "metadata": {},
   "outputs": [],
   "source": [
    "# sum by month, by employee\n",
    "MONTHLY_HOURS = df.groupby(['EMPLOYEE_ID', 'TIME_OFF_MONTH'])['FINAL_USED_HOURS'].sum()\n",
    "# sum by month, by year (data is only for 2022)\n",
    "YEARLY_HOURS = df.groupby(['EMPLOYEE_ID'])['FINAL_USED_HOURS'].sum()"
   ]
  },
  {
   "cell_type": "code",
   "execution_count": 43,
   "id": "5eb49f25",
   "metadata": {},
   "outputs": [],
   "source": [
    "# convert to dataframe\n",
    "MONTHLY_HOURS = MONTHLY_HOURS.to_frame()\n",
    "# make employee id column rather than index\n",
    "MONTHLY_HOURS.reset_index(inplace = True)\n",
    "# name column now field name \n",
    "MONTHLY_HOURS = MONTHLY_HOURS.rename(columns = {\"FINAL_USED_HOURS\": \"MONTHLY_HOURS\"})\n",
    "# again for yearly\n",
    "YEARLY_HOURS = YEARLY_HOURS.to_frame()\n",
    "YEARLY_HOURS.reset_index(inplace = True)\n",
    "YEARLY_HOURS = YEARLY_HOURS.rename(columns = {\"FINAL_USED_HOURS\": \"YEARLY_HOURS\"})"
   ]
  },
  {
   "cell_type": "code",
   "execution_count": 44,
   "id": "ccaa9da4",
   "metadata": {},
   "outputs": [],
   "source": [
    "# join new fields to dataframe\n",
    "df = pd.merge(df, MONTHLY_HOURS, how = 'left', \n",
    "                  left_on = ['EMPLOYEE_ID','TIME_OFF_MONTH'], \n",
    "                  right_on = ['EMPLOYEE_ID','TIME_OFF_MONTH'])\n",
    "\n",
    "df = pd.merge(df, YEARLY_HOURS, how = 'left', \n",
    "                  left_on = ['EMPLOYEE_ID'], \n",
    "                  right_on = ['EMPLOYEE_ID'])"
   ]
  },
  {
   "cell_type": "code",
   "execution_count": 45,
   "id": "e2265a25",
   "metadata": {},
   "outputs": [
    {
     "data": {
      "text/html": [
       "<div>\n",
       "<style scoped>\n",
       "    .dataframe tbody tr th:only-of-type {\n",
       "        vertical-align: middle;\n",
       "    }\n",
       "\n",
       "    .dataframe tbody tr th {\n",
       "        vertical-align: top;\n",
       "    }\n",
       "\n",
       "    .dataframe thead th {\n",
       "        text-align: right;\n",
       "    }\n",
       "</style>\n",
       "<table border=\"1\" class=\"dataframe\">\n",
       "  <thead>\n",
       "    <tr style=\"text-align: right;\">\n",
       "      <th></th>\n",
       "      <th>EMPLOYEE_ID</th>\n",
       "      <th>TIME_OFF_MONTH</th>\n",
       "      <th>MONTHLY_HOURS</th>\n",
       "      <th>YEARLY_HOURS</th>\n",
       "    </tr>\n",
       "  </thead>\n",
       "  <tbody>\n",
       "    <tr>\n",
       "      <th>0</th>\n",
       "      <td>80941dcdd6dd4d599bd99010e5e5c5a3fe0470af113a1a...</td>\n",
       "      <td>6</td>\n",
       "      <td>16.00</td>\n",
       "      <td>72.00</td>\n",
       "    </tr>\n",
       "    <tr>\n",
       "      <th>1</th>\n",
       "      <td>6152a4af8aaf0c00b840f040766280214c103ab23f59e6...</td>\n",
       "      <td>3</td>\n",
       "      <td>48.25</td>\n",
       "      <td>156.50</td>\n",
       "    </tr>\n",
       "    <tr>\n",
       "      <th>2</th>\n",
       "      <td>594a7465713e99115dbc5d1de3364bf04a198bfe835012...</td>\n",
       "      <td>3</td>\n",
       "      <td>40.00</td>\n",
       "      <td>152.00</td>\n",
       "    </tr>\n",
       "    <tr>\n",
       "      <th>3</th>\n",
       "      <td>1b7984a1ea288b9b1541da621e6b7ba3f2dba42166dfc9...</td>\n",
       "      <td>3</td>\n",
       "      <td>55.80</td>\n",
       "      <td>138.48</td>\n",
       "    </tr>\n",
       "    <tr>\n",
       "      <th>4</th>\n",
       "      <td>c8b9b957b9e3a9f9b1b871fa9034c31655e049832212fc...</td>\n",
       "      <td>7</td>\n",
       "      <td>24.00</td>\n",
       "      <td>76.00</td>\n",
       "    </tr>\n",
       "  </tbody>\n",
       "</table>\n",
       "</div>"
      ],
      "text/plain": [
       "                                         EMPLOYEE_ID  TIME_OFF_MONTH  \\\n",
       "0  80941dcdd6dd4d599bd99010e5e5c5a3fe0470af113a1a...               6   \n",
       "1  6152a4af8aaf0c00b840f040766280214c103ab23f59e6...               3   \n",
       "2  594a7465713e99115dbc5d1de3364bf04a198bfe835012...               3   \n",
       "3  1b7984a1ea288b9b1541da621e6b7ba3f2dba42166dfc9...               3   \n",
       "4  c8b9b957b9e3a9f9b1b871fa9034c31655e049832212fc...               7   \n",
       "\n",
       "   MONTHLY_HOURS  YEARLY_HOURS  \n",
       "0          16.00         72.00  \n",
       "1          48.25        156.50  \n",
       "2          40.00        152.00  \n",
       "3          55.80        138.48  \n",
       "4          24.00         76.00  "
      ]
     },
     "execution_count": 45,
     "metadata": {},
     "output_type": "execute_result"
    }
   ],
   "source": [
    "# view sample of new fields\n",
    "df[['EMPLOYEE_ID', 'TIME_OFF_MONTH', 'MONTHLY_HOURS', 'YEARLY_HOURS']].head(5)"
   ]
  },
  {
   "cell_type": "markdown",
   "id": "f4b52939",
   "metadata": {},
   "source": [
    "### Convert Categorical Variables into Dummy Variables"
   ]
  },
  {
   "cell_type": "markdown",
   "id": "c1134bc0",
   "metadata": {},
   "source": [
    "Because our categorical variables do not have an inherent ordering, we do not want continuous logic to be applied to them. Therefore, we will create dummy variables for our categorical variables to allow for accurate modeling and PCA. Additionally, we will not convert EMPLOYEE_ID to a numeric value, but it will not be used directly in the analysis."
   ]
  },
  {
   "cell_type": "code",
   "execution_count": 46,
   "id": "906773e5",
   "metadata": {},
   "outputs": [],
   "source": [
    "# MANAGER_INDICATOR and IS_CURRENTLY_ACTIVE_IND are already binary, but need to be converted to 0/1\n",
    "df['MANAGER_INDICATOR'] = df['MANAGER_INDICATOR'].eq('Y').mul(1)\n",
    "df['IS_CURRENTLY_ACTIVE_IND'] = df['IS_CURRENTLY_ACTIVE_IND'].eq('YES').mul(1)"
   ]
  },
  {
   "cell_type": "code",
   "execution_count": 47,
   "id": "995f6563",
   "metadata": {},
   "outputs": [],
   "source": [
    "# add all categorical column names to a list\n",
    "categorical = list(df.select_dtypes(include = ['object']).columns)\n",
    "# don't include EMPLOYEE_ID\n",
    "categorical.remove('EMPLOYEE_ID')"
   ]
  },
  {
   "cell_type": "code",
   "execution_count": 48,
   "id": "098bf20c",
   "metadata": {},
   "outputs": [],
   "source": [
    "# create dummy variables for all categorical fields\n",
    "dummy = pd.get_dummies(df, columns = categorical)\n",
    "# drop original categorical variables, only keeping dummy variables\n",
    "dummy.drop(columns = dummy.columns[:25], axis = 1, inplace = True)\n",
    "# drop categorical variables from original dataframe\n",
    "df = df.drop(columns = categorical, axis = 1)\n",
    "# append dummy variables to original dataframe\n",
    "df = pd.concat([df, dummy], axis = 1)"
   ]
  },
  {
   "cell_type": "code",
   "execution_count": 49,
   "id": "d5597b5c",
   "metadata": {},
   "outputs": [
    {
     "data": {
      "text/html": [
       "<div>\n",
       "<style scoped>\n",
       "    .dataframe tbody tr th:only-of-type {\n",
       "        vertical-align: middle;\n",
       "    }\n",
       "\n",
       "    .dataframe tbody tr th {\n",
       "        vertical-align: top;\n",
       "    }\n",
       "\n",
       "    .dataframe thead th {\n",
       "        text-align: right;\n",
       "    }\n",
       "</style>\n",
       "<table border=\"1\" class=\"dataframe\">\n",
       "  <thead>\n",
       "    <tr style=\"text-align: right;\">\n",
       "      <th></th>\n",
       "      <th>FINAL_STATUS_APPROVED</th>\n",
       "      <th>FINAL_STATUS_APPROVED THEN DENIED</th>\n",
       "      <th>FINAL_STATUS_CANCELLED</th>\n",
       "      <th>FINAL_STATUS_DENIED THEN APPROVED</th>\n",
       "      <th>FINAL_STATUS_SOME DENIED</th>\n",
       "    </tr>\n",
       "  </thead>\n",
       "  <tbody>\n",
       "    <tr>\n",
       "      <th>0</th>\n",
       "      <td>1</td>\n",
       "      <td>0</td>\n",
       "      <td>0</td>\n",
       "      <td>0</td>\n",
       "      <td>0</td>\n",
       "    </tr>\n",
       "    <tr>\n",
       "      <th>1</th>\n",
       "      <td>1</td>\n",
       "      <td>0</td>\n",
       "      <td>0</td>\n",
       "      <td>0</td>\n",
       "      <td>0</td>\n",
       "    </tr>\n",
       "    <tr>\n",
       "      <th>2</th>\n",
       "      <td>1</td>\n",
       "      <td>0</td>\n",
       "      <td>0</td>\n",
       "      <td>0</td>\n",
       "      <td>0</td>\n",
       "    </tr>\n",
       "    <tr>\n",
       "      <th>3</th>\n",
       "      <td>1</td>\n",
       "      <td>0</td>\n",
       "      <td>0</td>\n",
       "      <td>0</td>\n",
       "      <td>0</td>\n",
       "    </tr>\n",
       "    <tr>\n",
       "      <th>4</th>\n",
       "      <td>1</td>\n",
       "      <td>0</td>\n",
       "      <td>0</td>\n",
       "      <td>0</td>\n",
       "      <td>0</td>\n",
       "    </tr>\n",
       "  </tbody>\n",
       "</table>\n",
       "</div>"
      ],
      "text/plain": [
       "   FINAL_STATUS_APPROVED  FINAL_STATUS_APPROVED THEN DENIED  \\\n",
       "0                      1                                  0   \n",
       "1                      1                                  0   \n",
       "2                      1                                  0   \n",
       "3                      1                                  0   \n",
       "4                      1                                  0   \n",
       "\n",
       "   FINAL_STATUS_CANCELLED  FINAL_STATUS_DENIED THEN APPROVED  \\\n",
       "0                       0                                  0   \n",
       "1                       0                                  0   \n",
       "2                       0                                  0   \n",
       "3                       0                                  0   \n",
       "4                       0                                  0   \n",
       "\n",
       "   FINAL_STATUS_SOME DENIED  \n",
       "0                         0  \n",
       "1                         0  \n",
       "2                         0  \n",
       "3                         0  \n",
       "4                         0  "
      ]
     },
     "execution_count": 49,
     "metadata": {},
     "output_type": "execute_result"
    }
   ],
   "source": [
    "# view sample of new dummy variables\n",
    "df[['FINAL_STATUS_APPROVED', 'FINAL_STATUS_APPROVED THEN DENIED', 'FINAL_STATUS_CANCELLED',\n",
    "   'FINAL_STATUS_DENIED THEN APPROVED', 'FINAL_STATUS_SOME DENIED']].head(5)"
   ]
  },
  {
   "cell_type": "markdown",
   "id": "c8b87cf6",
   "metadata": {},
   "source": [
    "### Oversample Dataset"
   ]
  },
  {
   "cell_type": "markdown",
   "id": "f77ff477",
   "metadata": {},
   "source": [
    "**Please note, this step was added in after performing model evaluation and determining that the data was imbalanced and accuracy was an inadequate evaulation metric**. Oversampling allows us to replicate the minority class (being TERMINATION_COUNT = 1) to ensure that the model recognizing the distiction."
   ]
  },
  {
   "cell_type": "code",
   "execution_count": 50,
   "id": "16586321",
   "metadata": {},
   "outputs": [],
   "source": [
    "# oversample at 0.5 and set new x and y\n",
    "oversample = RandomOverSampler(sampling_strategy = 0.5)\n",
    "X_over, y_over = oversample.fit_resample(df.loc[:, ~df.columns.isin(['TERMINATION_COUNT', 'EMPLOYEE_ID'])], \n",
    "                                                    df['TERMINATION_COUNT'])"
   ]
  },
  {
   "cell_type": "markdown",
   "id": "f4927620",
   "metadata": {},
   "source": [
    "### Drop EMPLOYEE_ID"
   ]
  },
  {
   "cell_type": "markdown",
   "id": "4bffa5ac",
   "metadata": {},
   "source": [
    "The employee id column will not be used as a predictor. It was useful for creating monthly and yearly hours by employee, but should now be dropped. Keeping this value would also risk overfitting."
   ]
  },
  {
   "cell_type": "code",
   "execution_count": 51,
   "id": "009fd269",
   "metadata": {},
   "outputs": [],
   "source": [
    "# drops EMPLOYEE_ID column\n",
    "df = df.drop(columns = ['EMPLOYEE_ID'])"
   ]
  },
  {
   "cell_type": "markdown",
   "id": "8bb0561c",
   "metadata": {},
   "source": [
    "### Split Data into Training and Testing Sets"
   ]
  },
  {
   "cell_type": "markdown",
   "id": "c4369ba9",
   "metadata": {},
   "source": [
    "To allow for testing of our model, we will split our data into traning and testing sets."
   ]
  },
  {
   "cell_type": "code",
   "execution_count": 52,
   "id": "3a9c0b15",
   "metadata": {},
   "outputs": [],
   "source": [
    "# Splits the data 80/20 and separates our target column, TERMINATION_COUNT\n",
    "# we are using oversampled data\n",
    "x_train, x_test, y_train, y_test = train_test_split(X_over, y_over, test_size = 0.2)"
   ]
  },
  {
   "cell_type": "markdown",
   "id": "cc9d7b90",
   "metadata": {},
   "source": [
    "### Select Features using PCA"
   ]
  },
  {
   "cell_type": "markdown",
   "id": "4dfd9fcf",
   "metadata": {},
   "source": [
    "Given that some of our features do not appear to be very substantial in this analysis based on the result of EDA, they may not all need to be considered. Dropping some of our features will decrease the complexity of the model and produce cleaner resuls. "
   ]
  },
  {
   "cell_type": "code",
   "execution_count": 53,
   "id": "52e961d9",
   "metadata": {},
   "outputs": [
    {
     "name": "stdout",
     "output_type": "stream",
     "text": [
      "Original number of features: 26\n",
      "Reduced number of features: 14\n"
     ]
    }
   ],
   "source": [
    "# standardize the feature matrix\n",
    "features_train = StandardScaler().fit_transform(x_train)\n",
    "\n",
    "# create a PCA that will retain 80% of the variance\n",
    "pca_train = PCA(n_components = 0.80, whiten = True)\n",
    "\n",
    "# conduct PCA on training data\n",
    "features_pca_train = pca_train.fit_transform(scale(features_train))\n",
    "\n",
    "# conduct PCA on test data (transform without fitting)\n",
    "features_pca_test = pca_train.transform(scale(x_test))\n",
    "\n",
    "# show results\n",
    "print(\"Original number of features:\", features_train.shape[1])\n",
    "print(\"Reduced number of features:\", features_pca_train.shape[1])"
   ]
  },
  {
   "cell_type": "markdown",
   "id": "828d3a1c",
   "metadata": {},
   "source": [
    "# Project Milestone 3"
   ]
  },
  {
   "cell_type": "markdown",
   "id": "09083ca4",
   "metadata": {},
   "source": [
    "### Import Additional Packages"
   ]
  },
  {
   "cell_type": "code",
   "execution_count": 81,
   "id": "28885b4b",
   "metadata": {},
   "outputs": [],
   "source": [
    "from sklearn.neighbors import KNeighborsClassifier\n",
    "from sklearn.preprocessing import MinMaxScaler\n",
    "from sklearn.experimental import enable_halving_search_cv \n",
    "from sklearn.model_selection import HalvingGridSearchCV\n",
    "from sklearn import metrics\n",
    "from sklearn.tree import DecisionTreeClassifier\n",
    "from sklearn.metrics import roc_auc_score\n",
    "from sklearn.metrics import matthews_corrcoef\n",
    "from sklearn.ensemble import RandomForestRegressor\n",
    "from sklearn.ensemble import RandomForestClassifier\n",
    "from sklearn.metrics import confusion_matrix\n",
    "import seaborn as sns "
   ]
  },
  {
   "cell_type": "markdown",
   "id": "c4b4b5c1",
   "metadata": {},
   "source": [
    "### Chosen Models"
   ]
  },
  {
   "cell_type": "markdown",
   "id": "c6a80442",
   "metadata": {},
   "source": [
    "Although performing a grid search on model types, such as logistic regression, k-nearnest neighbor, random forest classification, decision tree classification, etc. may help narrow down the best model for use, the size of the dataset makes such a grid search non-feasible. Therefore, models chosen are based on model strengths and the nature of the dataset.\n",
    "\n",
    "Due to the robust nature of the KNN algorithm, along with the proper labels assigned in our data, the KNN algorithm was chosen as a strong candidate for use. Further, KNN is an algorithm adaptable to change. Being that the goal of this study is to predict those who are likely to terminate, this may change over time due to market conditions. Therefore, an adaptable algorithm would be useful. Although the KNN algorithm is a strong candidate, because we cannot perform a grid search for the best classification algorithm, we will also test out one more strong candidate and use chosen metrics to determine the best fit. Because of the previously established issue of imbalanced data, the decision was made to also attempt a decision tree classification algorithm. The decision tree algorithm is known for being a relatively strong model for imbalanced data problems. Therefore, in the following steps, we will build KNN and decision tree models on our data."
   ]
  },
  {
   "cell_type": "markdown",
   "id": "b6ac4532",
   "metadata": {},
   "source": [
    "### Chosen Metrics"
   ]
  },
  {
   "cell_type": "markdown",
   "id": "6be79f7d",
   "metadata": {},
   "source": [
    "One of the main concerns with this data is that it is imbalanced, meaning that the minority outcome (termination count of 1.0) occurs at a much lower rate than the majority outcome. Because of this, accuracy is not a good metric for determining model fit. However, for a starting point, and to ensure that the model is not predicting 100% of outcomes being in the majority class, we will take a look at the model's accuracy.\n",
    "\n",
    "To better understand the fit of our models, we will take a look at two additional metrics: area under the curve (AUC) and matthew's correlation coefficient (MCC). Although AUC is not intuitive for an end-user to interpret, it covers both sensitivity and specificity and performs well on imbalanced datasets. AUC values between 0.9-1.0 will be considered excellent, good for AUC values between 0.8-0.9, fair for AUC values 0.7-0.8, poor for AUC values between 0.6-0.7, and failed for AUC values between 0.5-0.6. MCC summarizes the confusion matrix, also performing well on imbalanced datasets. A higher MCC is considered better."
   ]
  },
  {
   "cell_type": "markdown",
   "id": "07bdd44c",
   "metadata": {},
   "source": [
    "### Tune Hyperparameters and Fit KNN Model"
   ]
  },
  {
   "cell_type": "code",
   "execution_count": 55,
   "id": "700db5df",
   "metadata": {},
   "outputs": [
    {
     "name": "stdout",
     "output_type": "stream",
     "text": [
      "Optimal Neighbors: 3\n"
     ]
    }
   ],
   "source": [
    "# create standardizer\n",
    "scaler = MinMaxScaler()\n",
    "\n",
    "k_range = list(range(1, 15))     # testing neighbors (k) 1-15\n",
    "param_grid = dict(n_neighbors = k_range) \n",
    "knn = KNeighborsClassifier(n_neighbors = 5)      \n",
    "features_scaled = scaler.fit_transform(features_pca_train)    # scaling features selected during pca\n",
    "\n",
    "# grid search to determine best number of neighbors\n",
    "# halving grid search is used to decrease computation time due to large dataset size\n",
    "grid = HalvingGridSearchCV(knn, param_grid, cv = 5, \n",
    "                           scoring = 'accuracy', return_train_score = False).fit(features_scaled, y_train)\n",
    "\n",
    "# prints optimal number of neighbors\n",
    "k = grid.best_params_['n_neighbors']\n",
    "print('Optimal Neighbors:', k)"
   ]
  },
  {
   "cell_type": "code",
   "execution_count": 56,
   "id": "49ca08ad",
   "metadata": {},
   "outputs": [],
   "source": [
    "# fit knn model with tuned hyperparameter\n",
    "knn = KNeighborsClassifier(n_neighbors = k)\n",
    "knn_model = knn.fit(features_pca_train, y_train)"
   ]
  },
  {
   "cell_type": "code",
   "execution_count": 57,
   "id": "f194bf50",
   "metadata": {},
   "outputs": [],
   "source": [
    "predictions_knn = knn_model.predict(features_pca_test)      # make predictions using test data"
   ]
  },
  {
   "cell_type": "code",
   "execution_count": 58,
   "id": "cc70598b",
   "metadata": {},
   "outputs": [
    {
     "name": "stdout",
     "output_type": "stream",
     "text": [
      "Model Accuracy: 98.815%\n"
     ]
    }
   ],
   "source": [
    "# Find the model accuracy\n",
    "print('Model Accuracy: {}%'.format(round(metrics.accuracy_score(y_test, predictions_knn) * 100, 5)))"
   ]
  },
  {
   "cell_type": "code",
   "execution_count": 59,
   "id": "96ec5b76",
   "metadata": {},
   "outputs": [
    {
     "name": "stdout",
     "output_type": "stream",
     "text": [
      "Model AUC: 0.9909\n"
     ]
    }
   ],
   "source": [
    "# find the model's auc score\n",
    "print('Model AUC:', round(roc_auc_score(y_test, predictions_knn), 5))"
   ]
  },
  {
   "cell_type": "code",
   "execution_count": 60,
   "id": "ec84c3a9",
   "metadata": {},
   "outputs": [
    {
     "name": "stdout",
     "output_type": "stream",
     "text": [
      "Model MCC: 0.9739\n"
     ]
    }
   ],
   "source": [
    "# find the model's MCC\n",
    "print('Model MCC:', round(matthews_corrcoef(y_test, predictions_knn), 5))"
   ]
  },
  {
   "cell_type": "code",
   "execution_count": 89,
   "id": "c46b2469",
   "metadata": {},
   "outputs": [
    {
     "data": {
      "image/png": "[encoded data removed]",
      "text/plain": [
       "<Figure size 360x360 with 2 Axes>"
      ]
     },
     "metadata": {
      "needs_background": "light"
     },
     "output_type": "display_data"
    }
   ],
   "source": [
    "# confusion matrix\n",
    "cm = confusion_matrix(y_test, predictions_knn)\n",
    "f, ax = plt.subplots(figsize = (5,5))\n",
    "\n",
    "sns.heatmap(cm, annot = True, linewidths = 0.5, linecolor = \"red\", fmt = \".0f\", ax = ax)\n",
    "plt.xlabel(\"Predicted\")\n",
    "plt.ylabel(\"True\")\n",
    "plt.show()"
   ]
  },
  {
   "cell_type": "markdown",
   "id": "8bd01822",
   "metadata": {},
   "source": [
    "### Tune Hyperparameters and Fit Decision Tree Model"
   ]
  },
  {
   "cell_type": "code",
   "execution_count": 61,
   "id": "d216e04e",
   "metadata": {},
   "outputs": [
    {
     "name": "stdout",
     "output_type": "stream",
     "text": [
      "Optimal Criterion: entropy\n",
      "Optimal Depth:  12\n"
     ]
    }
   ],
   "source": [
    "# create decision tree classifer object\n",
    "dt = DecisionTreeClassifier()\n",
    "\n",
    "# hyperparamter tuning options\n",
    "criterion = ['gini', 'entropy']\n",
    "max_depth = [2,4,6,8,10,12]\n",
    "\n",
    "parameters = dict(criterion = criterion, max_depth = max_depth)\n",
    "\n",
    "# grid search to determine best number of neighbors\n",
    "# halving grid search is used to decrease computation time due to large dataset size\n",
    "grid = HalvingGridSearchCV(dt, parameters, cv = 5, \n",
    "                           scoring = 'accuracy', return_train_score = False).fit(features_scaled, y_train)\n",
    "\n",
    "# print best hyperparameters\n",
    "crit = grid.best_params_['criterion']\n",
    "depth = grid.best_params_['max_depth']\n",
    "print('Optimal Criterion:', crit)\n",
    "print('Optimal Depth: ', depth)"
   ]
  },
  {
   "cell_type": "code",
   "execution_count": 62,
   "id": "9c797f02",
   "metadata": {},
   "outputs": [],
   "source": [
    "# fit decision tree model\n",
    "dt = DecisionTreeClassifier(criterion = crit, max_depth = depth)\n",
    "dt_model = dt.fit(features_pca_train, y_train)"
   ]
  },
  {
   "cell_type": "code",
   "execution_count": 63,
   "id": "e6aa5ce3",
   "metadata": {},
   "outputs": [],
   "source": [
    "predictions_dt = dt_model.predict(features_pca_test)      # make predictions using test data"
   ]
  },
  {
   "cell_type": "code",
   "execution_count": 64,
   "id": "ffb729c5",
   "metadata": {},
   "outputs": [
    {
     "name": "stdout",
     "output_type": "stream",
     "text": [
      "Model Accuracy: 94.73591%\n"
     ]
    }
   ],
   "source": [
    "# print model accuracy\n",
    "print('Model Accuracy: {}%'.format(round(metrics.accuracy_score(y_test, predictions_dt) * 100, 5)))"
   ]
  },
  {
   "cell_type": "code",
   "execution_count": 65,
   "id": "a87d7a51",
   "metadata": {},
   "outputs": [
    {
     "name": "stdout",
     "output_type": "stream",
     "text": [
      "Model AUC: 0.94722\n"
     ]
    }
   ],
   "source": [
    "# find the model's auc score\n",
    "print('Model AUC:', round(roc_auc_score(y_test, predictions_dt), 5))"
   ]
  },
  {
   "cell_type": "code",
   "execution_count": 66,
   "id": "d39c91c9",
   "metadata": {},
   "outputs": [
    {
     "name": "stdout",
     "output_type": "stream",
     "text": [
      "Model MCC: 0.88383\n"
     ]
    }
   ],
   "source": [
    "# find the model's MCC\n",
    "print('Model MCC:', round(matthews_corrcoef(y_test, predictions_dt), 5))"
   ]
  },
  {
   "cell_type": "code",
   "execution_count": 90,
   "id": "d5cb80df",
   "metadata": {},
   "outputs": [
    {
     "data": {
      "image/png": "[encoded data removed]",
      "text/plain": [
       "<Figure size 360x360 with 2 Axes>"
      ]
     },
     "metadata": {
      "needs_background": "light"
     },
     "output_type": "display_data"
    }
   ],
   "source": [
    "# confusion matrix\n",
    "cm = confusion_matrix(y_test, predictions_dt)\n",
    "f, ax = plt.subplots(figsize = (5,5))\n",
    "\n",
    "sns.heatmap(cm, annot = True, linewidths = 0.5, linecolor = \"red\", fmt = \".0f\", ax = ax)\n",
    "plt.xlabel(\"Predicted\")\n",
    "plt.ylabel(\"True\")\n",
    "plt.show()"
   ]
  },
  {
   "cell_type": "markdown",
   "id": "a347f8d7",
   "metadata": {},
   "source": [
    "### Tune Hyperparameters and Fit Random Forest Model"
   ]
  },
  {
   "cell_type": "code",
   "execution_count": 71,
   "id": "50c7029b",
   "metadata": {},
   "outputs": [],
   "source": [
    "# Create the parameter grid based on the results of random search \n",
    "param_grid = {\n",
    "    'bootstrap': [True],\n",
    "    'max_depth': [80, 90, 100, 110],\n",
    "    'max_features': [2, 3],\n",
    "    'min_samples_leaf': [3, 4, 5],\n",
    "    'min_samples_split': [8, 10, 12],\n",
    "    'n_estimators': [100, 200, 300, 1000]\n",
    "}\n",
    "\n",
    "# Create a based model\n",
    "rf = RandomForestRegressor()\n",
    "\n",
    "# Instantiate the grid search model\n",
    "grid_search = HalvingGridSearchCV(estimator = rf, param_grid = param_grid, \n",
    "                          cv = 3, scoring = 'accuracy').fit(features_scaled, y_train)"
   ]
  },
  {
   "cell_type": "code",
   "execution_count": 72,
   "id": "c7b9aeef",
   "metadata": {},
   "outputs": [
    {
     "name": "stdout",
     "output_type": "stream",
     "text": [
      "Optimal Bootstrap: entropy\n",
      "Optimal Depth:  80\n",
      "Optimal Features:  2\n",
      "Optimal Samples Leaf:  3\n",
      "Optimal Samples Split:  10\n",
      "Optimal Estimators:  1000\n"
     ]
    }
   ],
   "source": [
    "# print best hyperparameters\n",
    "bs = grid_search.best_params_['bootstrap']\n",
    "depth = grid_search.best_params_['max_depth']\n",
    "features = grid_search.best_params_['max_features']\n",
    "sl = grid_search.best_params_['min_samples_leaf']\n",
    "ss = grid_search.best_params_['min_samples_split']\n",
    "estimators = grid_search.best_params_['n_estimators']\n",
    "print('Optimal Bootstrap:', crit)\n",
    "print('Optimal Depth: ', depth)\n",
    "print('Optimal Features: ', features)\n",
    "print('Optimal Samples Leaf: ', sl)\n",
    "print('Optimal Samples Split: ', ss)\n",
    "print('Optimal Estimators: ', estimators)"
   ]
  },
  {
   "cell_type": "code",
   "execution_count": 75,
   "id": "a50f93b8",
   "metadata": {},
   "outputs": [],
   "source": [
    "# fit random forest model\n",
    "rf = RandomForestClassifier(bootstrap = bs, max_depth = depth, max_features = features,\n",
    "                         min_samples_leaf = sl, min_samples_split = ss, n_estimators = estimators)\n",
    "rf_model = rf.fit(features_pca_train, y_train)"
   ]
  },
  {
   "cell_type": "code",
   "execution_count": 76,
   "id": "1b0f3d22",
   "metadata": {},
   "outputs": [],
   "source": [
    "predictions_rf = rf_model.predict(features_pca_test)      # make predictions using test data"
   ]
  },
  {
   "cell_type": "code",
   "execution_count": 77,
   "id": "eb5baec2",
   "metadata": {},
   "outputs": [
    {
     "name": "stdout",
     "output_type": "stream",
     "text": [
      "Model Accuracy: 94.73591%\n"
     ]
    }
   ],
   "source": [
    "# print model accuracy\n",
    "print('Model Accuracy: {}%'.format(round(metrics.accuracy_score(y_test, predictions_dt) * 100, 5)))"
   ]
  },
  {
   "cell_type": "code",
   "execution_count": 78,
   "id": "c455419f",
   "metadata": {},
   "outputs": [
    {
     "name": "stdout",
     "output_type": "stream",
     "text": [
      "Model AUC: 0.94722\n"
     ]
    }
   ],
   "source": [
    "# find the model's auc score\n",
    "print('Model AUC:', round(roc_auc_score(y_test, predictions_dt), 5))"
   ]
  },
  {
   "cell_type": "code",
   "execution_count": 79,
   "id": "a2d4cbd4",
   "metadata": {},
   "outputs": [
    {
     "name": "stdout",
     "output_type": "stream",
     "text": [
      "Model MCC: 0.88383\n"
     ]
    }
   ],
   "source": [
    "# find the model's MCC\n",
    "print('Model MCC:', round(matthews_corrcoef(y_test, predictions_dt), 5))"
   ]
  },
  {
   "cell_type": "code",
   "execution_count": 91,
   "id": "e1a94cd6",
   "metadata": {},
   "outputs": [
    {
     "data": {
      "image/png": "[encoded data removed]",
      "text/plain": [
       "<Figure size 360x360 with 2 Axes>"
      ]
     },
     "metadata": {
      "needs_background": "light"
     },
     "output_type": "display_data"
    }
   ],
   "source": [
    "# confusion matrix\n",
    "cm = confusion_matrix(y_test, predictions_rf)\n",
    "f, ax = plt.subplots(figsize = (5,5))\n",
    "\n",
    "sns.heatmap(cm, annot = True, linewidths = 0.5, linecolor = \"red\", fmt = \".0f\", ax = ax)\n",
    "plt.xlabel(\"Predicted\")\n",
    "plt.ylabel(\"True\")\n",
    "plt.show()"
   ]
  },
  {
   "cell_type": "markdown",
   "id": "a667c2ad",
   "metadata": {},
   "source": [
    "## Conclusion"
   ]
  },
  {
   "cell_type": "markdown",
   "id": "740e0f07",
   "metadata": {},
   "source": [
    "After fitting both a K-Nearest Neighbor algorithm and a Decision Tree Classification model on our data, we find a model accuracy of 98.74%, an AUC of 0.99, and a MCC of 0.97 for our KNN model, and a model accuracy of 94.69%, an AUC of 0.95, and a MCC of 0.88 for our decision tree model. Although the accuracies are high for both models, the imbalanced nature of the data makes this a poor metric for determining model fit. However, based on the accuracy, we can conclude that both of models do take into account the minority outcome. Looking instead toward the AUC and MCC, the KNN model performs better in both cases. Although the model AUC for both the KNN and decision tree model are close, the MCC is further off, with the decision tree model performing more poorly. Thus, the KNN model is a stronger model for predicting termination based on the chosen features. "
   ]
  }
 ],
 "metadata": {
  "kernelspec": {
   "display_name": "Python 3 (ipykernel)",
   "language": "python",
   "name": "python3"
  },
  "language_info": {
   "codemirror_mode": {
    "name": "ipython",
    "version": 3
   },
   "file_extension": ".py",
   "mimetype": "text/x-python",
   "name": "python",
   "nbconvert_exporter": "python",
   "pygments_lexer": "ipython3",
   "version": "3.9.12"
  }
 },
 "nbformat": 4,
 "nbformat_minor": 5
}
